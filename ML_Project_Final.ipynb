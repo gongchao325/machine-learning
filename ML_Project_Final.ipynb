{
 "cells": [
  {
   "cell_type": "markdown",
   "metadata": {},
   "source": [
    "## Part 1. Data Pre-Processing"
   ]
  },
  {
   "cell_type": "code",
   "execution_count": 1,
   "metadata": {},
   "outputs": [],
   "source": [
    "#Import Necessary Packages"
   ]
  },
  {
   "cell_type": "code",
   "execution_count": 2,
   "metadata": {},
   "outputs": [
    {
     "data": {
      "text/plain": [
       "EasyEnsembleClassifier()"
      ]
     },
     "execution_count": 2,
     "metadata": {},
     "output_type": "execute_result"
    }
   ],
   "source": [
    "import pandas as pd\n",
    "import numpy as np\n",
    "import datetime\n",
    "from sklearn import preprocessing,linear_model,datasets,svm,model_selection,naive_bayes,metrics\n",
    "from sklearn.svm import SVC\n",
    "from sklearn.linear_model import LogisticRegression\n",
    "from sklearn.preprocessing import label_binarize,StandardScaler\n",
    "from sklearn.metrics import confusion_matrix,classification_report,precision_score,recall_score,f1_score,roc_curve,auc,roc_auc_score,log_loss,fbeta_score, make_scorer\n",
    "import sklearn.neighbors as sk_neighbors\n",
    "from sklearn.neighbors import KNeighborsClassifier\n",
    "from sklearn.neural_network import MLPClassifier\n",
    "from sklearn.model_selection import train_test_split,StratifiedKFold,GridSearchCV\n",
    "from sklearn.ensemble import RandomForestClassifier\n",
    "from sklearn.naive_bayes import GaussianNB\n",
    "import statsmodels.api as sm\n",
    "from statsmodels.discrete.discrete_model import Logit, Probit, MNLogit\n",
    "from pylab import mpl\n",
    "import plotly.graph_objects as go\n",
    "import itertools\n",
    "from scipy import interp\n",
    "from pylab import mpl\n",
    "import matplotlib.pyplot as plt\n",
    "import seaborn as sns\n",
    "import plotly.graph_objects as go\n",
    "sns.set_style('whitegrid')\n",
    "sns.set_context('paper')\n",
    "import warnings\n",
    "warnings.filterwarnings('ignore')\n",
    "from imblearn.under_sampling import RandomUnderSampler\n",
    "from imblearn.over_sampling import SMOTE                \n",
    "from imblearn.under_sampling import RandomUnderSampler  \n",
    "from imblearn.over_sampling import RandomOverSampler                            \n",
    "import imblearn.ensemble\n",
    "from collections import Counter\n",
    "imblearn.ensemble.EasyEnsembleClassifier()"
   ]
  },
  {
   "cell_type": "code",
   "execution_count": 3,
   "metadata": {},
   "outputs": [],
   "source": [
    "#Import Data"
   ]
  },
  {
   "cell_type": "code",
   "execution_count": 4,
   "metadata": {},
   "outputs": [
    {
     "name": "stdout",
     "output_type": "stream",
     "text": [
      "Price_info Shape (89019, 15)\n",
      "IPO_info Shap (2204, 47)\n"
     ]
    }
   ],
   "source": [
    "price_info = pd.read_excel(\"ipo_firm_price_filtered.xlsx\")\n",
    "price_info.columns=['Code','Name','Date','Open','High','Low','Close','Quantity','Amount','Growth_rate','Change_rate','Market_cap','PE_ratio','IPO_date','IPO_date+2m']\n",
    "print(\"Price_info Shape\",price_info.shape)\n",
    "IPO_info = pd.read_excel(\"ML_Data.xlsx\")\n",
    "print(\"IPO_info Shap\",IPO_info.shape)\n",
    "IPO_info=IPO_info[80:].reset_index().drop(columns=[\"index\"])\n",
    "#Total four boards：SSE/GEM/SZSE/STAR\n",
    "board_info = pd.read_excel(\"4 board data.xlsx\")\n",
    "stock_names=IPO_info[\"Company_name\"].unique()"
   ]
  },
  {
   "cell_type": "code",
   "execution_count": 5,
   "metadata": {},
   "outputs": [],
   "source": [
    "#Calculate IPO_Price and Before_OpenDay_Price of stocks"
   ]
  },
  {
   "cell_type": "code",
   "execution_count": 6,
   "metadata": {},
   "outputs": [],
   "source": [
    "#If new stock can be traded at IPO day, then Before_OpenDay_Price is exactly IPO_Price\n",
    "#If new stock cannot be traded at IPO day,which means it keeps at LimitUp_Price for a certain days,\n",
    "#then Before_OpenDay_Price is equal to the Close_Price just the day before OpenDay\n",
    "for i in range(len(IPO_info)):\n",
    "    LimitUp_Days=IPO_info[IPO_info[\"Company_name\"]==stock_names[i]][\"No_of_days_stop\"]\n",
    "    if int(LimitUp_Days)==0:\n",
    "        IPO_info.loc[i,\"Before OpenDay Price\"]=IPO_info.loc[i,\"Issue_price\"]\n",
    "    else:\n",
    "        IPO_info.loc[i,\"Before OpenDay Price\"]=float(price_info[price_info[\"Name\"]==stock_names[i]].reset_index().loc[LimitUp_Days,\"Close\"])"
   ]
  },
  {
   "cell_type": "code",
   "execution_count": 7,
   "metadata": {},
   "outputs": [],
   "source": [
    "#Calculate IPO_PE and Before_OpenDay_PE of stocks"
   ]
  },
  {
   "cell_type": "code",
   "execution_count": 8,
   "metadata": {},
   "outputs": [],
   "source": [
    "#If new stock can be traded at IPO day, then Before_OpenDay_PE is exactly IPO_PE\n",
    "#If new stock cannot be traded at IPO day,which means it keeps at LimitUp_Price for a certain days,\n",
    "#then Before_OpenDay_PE is equal to the Current_PE just the day before OpenDay\n",
    "for i in range(len(IPO_info)):\n",
    "    LimitUp_Days=IPO_info[IPO_info[\"Company_name\"]==stock_names[i]][\"No_of_days_stop\"]\n",
    "    if int(LimitUp_Days)==0:\n",
    "        IPO_info.loc[i,\"Before OpenDay PE\"]=IPO_info.loc[i,\"Company_PE\"]\n",
    "    else:\n",
    "        IPO_info.loc[i,\"Before OpenDay PE\"]=float(price_info[price_info[\"Name\"]==stock_names[i]].reset_index().loc[LimitUp_Days,\"PE_ratio\"])"
   ]
  },
  {
   "cell_type": "code",
   "execution_count": 9,
   "metadata": {},
   "outputs": [],
   "source": [
    "#Calculate IPO_MktCap and Before_OpenDay_MktCap of stocks"
   ]
  },
  {
   "cell_type": "code",
   "execution_count": 10,
   "metadata": {},
   "outputs": [],
   "source": [
    "#If new stock can be traded at IPO day, then Before_OpenDay_MktCap is exactly IPO_MktCap\n",
    "#If new stock cannot be traded at IPO day,which means it keeps at LimitUp_Price for a certain days,\n",
    "#then Before_OpenDay_MkyCap is equal to the Current_MktCap just the day before OpenDay\n",
    "IPO_info[\"IPO_MktCap\"]=IPO_info[\"Total_stock_Issue_qty\"]*IPO_info[\"Issue_price\"]*10000\n",
    "for i in range(len(IPO_info)):\n",
    "    LimitUp_Days=IPO_info[IPO_info[\"Company_name\"]==stock_names[i]][\"No_of_days_stop\"]\n",
    "    if int(LimitUp_Days)==0:\n",
    "        IPO_info.loc[i,\"Before OpenDay MktCap\"]=IPO_info.loc[i,\"IPO_MktCap\"]\n",
    "    else:\n",
    "        IPO_info.loc[i,\"Before OpenDay MktCap\"]=float(price_info[price_info[\"Name\"]==stock_names[i]].reset_index().loc[LimitUp_Days,\"Market_cap\"])"
   ]
  },
  {
   "cell_type": "code",
   "execution_count": 11,
   "metadata": {},
   "outputs": [],
   "source": [
    "#Calculate Board_Index_Trend between Before_IPO_1Day and After_Open_1Day "
   ]
  },
  {
   "cell_type": "code",
   "execution_count": 12,
   "metadata": {},
   "outputs": [],
   "source": [
    "#If Board_Index tends to grow during this period,then we set Mkt_Trend=1\n",
    "#If Board_Index tends to be stable during this period,then we set Mkt_Trend=0\n",
    "#If Board_Index tends to fall during this period,then we set Mkt_Trend=-1\n",
    "for i in range(len(IPO_info)):\n",
    "    LimitUp_Days=IPO_info[IPO_info[\"Company_name\"]==stock_names[i]][\"No_of_days_stop\"]\n",
    "    board_type=(IPO_info[IPO_info[\"Company_name\"]==stock_names[i]][\"Board_Type\"]).values[0]\n",
    "    IPO_date=str(IPO_info[IPO_info[\"Company_name\"]==stock_names[i]][\"IPO_date\"].values)[2:12]\n",
    "    IPO_index=float(board_info[board_info[\"Date\"]==IPO_date][board_type].values[0])\n",
    "    Open_index=float(board_info.iloc[board_info[board_info[\"Date\"]==IPO_date].index[0]+LimitUp_Days][board_type].values[0])\n",
    "    IPO_info.loc[i,\"IPO_index\"]=IPO_index\n",
    "    IPO_info.loc[i,\"Open_index\"]=Open_index\n",
    "for i in range(len(IPO_info)):\n",
    "    IPO_info.loc[i,\"Mkt Growth\"]=IPO_info.loc[i,\"Open_index\"]/IPO_info.loc[i,\"IPO_index\"]-1\n",
    "    if IPO_info.loc[i,\"Mkt Growth\"]>0:\n",
    "        IPO_info.loc[i,\"Mkt Trend\"]=1\n",
    "    elif IPO_info.loc[i,\"Mkt Growth\"]<0:\n",
    "        IPO_info.loc[i,\"Mkt Trend\"]=-1\n",
    "    else:\n",
    "        IPO_info.loc[i,\"Mkt Trend\"]=0"
   ]
  },
  {
   "cell_type": "code",
   "execution_count": 13,
   "metadata": {},
   "outputs": [],
   "source": [
    "#Classify the industries into three main sectors"
   ]
  },
  {
   "cell_type": "code",
   "execution_count": 14,
   "metadata": {},
   "outputs": [],
   "source": [
    "#If stock industry belongs to \"Agriculture\",then we set Industry=1\n",
    "#If stock industry belongs to \"Industrial \",then we set Industry=2\n",
    "#If stock industry belongs to \"Services \",then we set Industry=3\n",
    "for i in range(len(IPO_info[\"Industry\"])):\n",
    "    if IPO_info[\"Industry\"][i]==\"Daily Consumption\":\n",
    "        IPO_info.loc[i,\"Industry_Class\"]=1\n",
    "    elif IPO_info[\"Industry\"][i]==\"Manufactory\" or IPO_info[\"Industry\"][i]==\"Material\" or IPO_info[\"Industry\"][i]==\"Vehicle\" or IPO_info[\"Industry\"][i]==\"Semiconductor\" or IPO_info[\"Industry\"][i]==\"Energy\":\n",
    "        IPO_info.loc[i,\"Industry_Class\"]=2\n",
    "    else:\n",
    "        IPO_info.loc[i,\"Industry_Class\"]=3"
   ]
  },
  {
   "cell_type": "code",
   "execution_count": 15,
   "metadata": {},
   "outputs": [],
   "source": [
    "#Classify the board_type into four boards"
   ]
  },
  {
   "cell_type": "code",
   "execution_count": 16,
   "metadata": {},
   "outputs": [],
   "source": [
    "#If stock industry belongs to \"STAR\",then we set Industry=1\n",
    "#If stock industry belongs to \"SSE \",then we set Industry=2\n",
    "#If stock industry belongs to \"GEM \",then we set Industry=3\n",
    "#If stock industry belongs to \"SZSE \",then we set Industry=4\n",
    "for i in range(len(IPO_info)):\n",
    "    if IPO_info[\"Board_Type\"][i]==\"STAR\":\n",
    "        IPO_info.loc[i,\"Board_Class\"]=1\n",
    "    elif IPO_info[\"Board_Type\"][i]==\"SSE\":\n",
    "        IPO_info.loc[i,\"Board_Class\"]=2\n",
    "    elif IPO_info[\"Board_Type\"][i]==\"GEM\":\n",
    "        IPO_info.loc[i,\"Board_Class\"]=3\n",
    "    else:\n",
    "        IPO_info.loc[i,\"Board_Class\"]=4"
   ]
  },
  {
   "cell_type": "code",
   "execution_count": 17,
   "metadata": {},
   "outputs": [
    {
     "data": {
      "text/plain": [
       "array(['GEM', 'SSE', 'STAR', 'SZSE'], dtype=object)"
      ]
     },
     "execution_count": 17,
     "metadata": {},
     "output_type": "execute_result"
    }
   ],
   "source": [
    "IPO_info[\"Board_Type\"].unique()"
   ]
  },
  {
   "cell_type": "code",
   "execution_count": 18,
   "metadata": {},
   "outputs": [],
   "source": [
    "#Get dummy_variables for \"Industry\" and \"Board\""
   ]
  },
  {
   "cell_type": "code",
   "execution_count": 19,
   "metadata": {},
   "outputs": [],
   "source": [
    "boards=pd.get_dummies(IPO_info[\"Board_Class\"],prefix=\"board_=\")\n",
    "industries=pd.get_dummies(IPO_info[\"Industry_Class\"],prefix=\"industry_=\")\n",
    "IPO_info=pd.concat([IPO_info,boards,industries],axis=1)"
   ]
  },
  {
   "cell_type": "code",
   "execution_count": 20,
   "metadata": {},
   "outputs": [],
   "source": [
    "#Calculate stock return for certain period"
   ]
  },
  {
   "cell_type": "code",
   "execution_count": 21,
   "metadata": {},
   "outputs": [],
   "source": [
    "def stock_cum_growth(data,stock_code,lock_period,period):\n",
    "    df = data[data['Code']==stock_code].reset_index().drop(\"index\",axis=1)\n",
    "    start_price = df.loc[lock_period,\"Close\"]\n",
    "    end_price = df.loc[lock_period+period,\"Close\"]\n",
    "    cum_growth = end_price/start_price-1\n",
    "    return cum_growth"
   ]
  },
  {
   "cell_type": "code",
   "execution_count": 22,
   "metadata": {},
   "outputs": [],
   "source": [
    "#Get Y variables for 0/1 "
   ]
  },
  {
   "cell_type": "code",
   "execution_count": 23,
   "metadata": {},
   "outputs": [],
   "source": [
    "#If stock return is higher than targeted_value, then we set Y=1\n",
    "#If stock return is lower than targeted_value, then we set Y=0\n",
    "def y_generater(data,stock_code,lock_period,period,target):\n",
    "    df = data[data['Code']==stock_code].reset_index().drop(\"index\",axis=1)\n",
    "    start_price = df.loc[lock_period,\"Close\"]\n",
    "    end_price = df.loc[lock_period+period,\"Close\"]\n",
    "    cum_growth = end_price/start_price-1\n",
    "    \n",
    "    if cum_growth >= target:\n",
    "        return 1\n",
    "    else:\n",
    "        return 0"
   ]
  },
  {
   "cell_type": "code",
   "execution_count": 24,
   "metadata": {},
   "outputs": [],
   "source": [
    "#For our study,we want to find if we hold new stock for 10-days just after OpenDay,whether we can achieve return=10%\n",
    "#Then we set period=10, target=0.1"
   ]
  },
  {
   "cell_type": "code",
   "execution_count": 25,
   "metadata": {},
   "outputs": [],
   "source": [
    "for i in range(len(IPO_info)):\n",
    "    stock_code=IPO_info.loc[i,\"Code\"]\n",
    "    lock_period=IPO_info.loc[i,\"No_of_days_stop\"]\n",
    "    #lock_period=0\n",
    "    #set forward_looking=1\n",
    "    period=10\n",
    "    one_day_growth=stock_cum_growth(price_info, stock_code, lock_period, period)\n",
    "    y1=y_generater(price_info, stock_code, lock_period, period,0.1)\n",
    "    IPO_info.loc[i,\"one_day_growth\"]=one_day_growth\n",
    "    IPO_info.loc[i,\"Y1\"]=y1"
   ]
  },
  {
   "cell_type": "code",
   "execution_count": 26,
   "metadata": {},
   "outputs": [],
   "source": [
    "#Select certain 23-variables as X-variables and Y1 as Y-variable"
   ]
  },
  {
   "cell_type": "code",
   "execution_count": 27,
   "metadata": {},
   "outputs": [
    {
     "data": {
      "text/plain": [
       "Index(['Code', 'Company_name', 'IPO_date', 'Month', 'No_of_days_stop',\n",
       "       'Open_for_Purchase_Date', 'Board_Type', 'Issue_price', 'Company_PE',\n",
       "       'Industry_PE', 'Total_stock_Issue_qty', 'New_stock_Issue_qty',\n",
       "       'Existing_stock_transfer_qty', 'Offline_issue_qty', 'Online_Issue_qty',\n",
       "       'Clawback_ratio', 'Offline_subscription_limit',\n",
       "       'Online_subscription_limit', 'Expected_fundraising_amount',\n",
       "       'Total_fundraising_amount', 'Net_fundraising_amount', 'Issuance_costs',\n",
       "       'Issuance_cost_in_percentage', 'Existing_stock_Transfer_cost',\n",
       "       'Existing_stock_Transfer_cost_in_percentage', 'Total_Issuance_cost',\n",
       "       'Total_Issuance_cost_in_percentage', 'Guarantee_Fee', 'Audit_fee',\n",
       "       'Legal_fee', 'Number_of_valid_subscription_accounts',\n",
       "       'Number_of_valid_subscription_shares', 'Winning_rate',\n",
       "       'Subscription_multiple', 'Allotment_method', 'Announcement_date',\n",
       "       'Online_issuance_of frozen_funds',\n",
       "       'Underwriters_subscribe_for_the_remaining_shares ',\n",
       "       'Underwriting_amount', 'Underwriting_ratio', 'face_value', 'Province',\n",
       "       'Industry', 'Issue_price.1', 'Average_price', 'First_day_growth_rate',\n",
       "       'Five_day_growth_rate', 'Before OpenDay Price', 'Before OpenDay PE',\n",
       "       'IPO_MktCap', 'Before OpenDay MktCap', 'IPO_index', 'Open_index',\n",
       "       'Mkt Growth', 'Mkt Trend', 'Industry_Class', 'Board_Class',\n",
       "       'board_=_1.0', 'board_=_2.0', 'board_=_3.0', 'board_=_4.0',\n",
       "       'industry_=_1.0', 'industry_=_2.0', 'industry_=_3.0', 'one_day_growth',\n",
       "       'Y1'],\n",
       "      dtype='object')"
      ]
     },
     "execution_count": 27,
     "metadata": {},
     "output_type": "execute_result"
    }
   ],
   "source": [
    "IPO_info.columns"
   ]
  },
  {
   "cell_type": "code",
   "execution_count": 28,
   "metadata": {},
   "outputs": [
    {
     "data": {
      "text/plain": [
       "20"
      ]
     },
     "execution_count": 28,
     "metadata": {},
     "output_type": "execute_result"
    }
   ],
   "source": [
    "selected_columns=[\"Month\",\"No_of_days_stop\",\"Issue_price\",\"Industry_PE\",\"Before OpenDay Price\",\"Clawback_ratio\",\"Before OpenDay PE\",\"Total_Issuance_cost_in_percentage\",\"face_value\",\"IPO_MktCap\",\"Before OpenDay MktCap\",\"Mkt Trend\",\"board_=_1.0\",\"board_=_2.0\",\"board_=_3.0\",\"board_=_4.0\",\"industry_=_1.0\",\"industry_=_2.0\",\"industry_=_3.0\",\"Y1\"]\n",
    "len(selected_columns)"
   ]
  },
  {
   "cell_type": "code",
   "execution_count": 29,
   "metadata": {},
   "outputs": [],
   "source": [
    "#Check correlation between these variables"
   ]
  },
  {
   "cell_type": "code",
   "execution_count": 30,
   "metadata": {},
   "outputs": [
    {
     "data": {
      "text/html": [
       "<div>\n",
       "<style scoped>\n",
       "    .dataframe tbody tr th:only-of-type {\n",
       "        vertical-align: middle;\n",
       "    }\n",
       "\n",
       "    .dataframe tbody tr th {\n",
       "        vertical-align: top;\n",
       "    }\n",
       "\n",
       "    .dataframe thead th {\n",
       "        text-align: right;\n",
       "    }\n",
       "</style>\n",
       "<table border=\"1\" class=\"dataframe\">\n",
       "  <thead>\n",
       "    <tr style=\"text-align: right;\">\n",
       "      <th></th>\n",
       "      <th>Month</th>\n",
       "      <th>No_of_days_stop</th>\n",
       "      <th>Issue_price</th>\n",
       "      <th>Industry_PE</th>\n",
       "      <th>Before OpenDay Price</th>\n",
       "      <th>Clawback_ratio</th>\n",
       "      <th>Before OpenDay PE</th>\n",
       "      <th>Total_Issuance_cost_in_percentage</th>\n",
       "      <th>face_value</th>\n",
       "      <th>IPO_MktCap</th>\n",
       "      <th>Before OpenDay MktCap</th>\n",
       "      <th>Mkt Trend</th>\n",
       "      <th>board_=_1.0</th>\n",
       "      <th>board_=_2.0</th>\n",
       "      <th>board_=_3.0</th>\n",
       "      <th>board_=_4.0</th>\n",
       "      <th>industry_=_1.0</th>\n",
       "      <th>industry_=_2.0</th>\n",
       "      <th>industry_=_3.0</th>\n",
       "      <th>Y1</th>\n",
       "    </tr>\n",
       "  </thead>\n",
       "  <tbody>\n",
       "    <tr>\n",
       "      <th>Month</th>\n",
       "      <td>1.000000</td>\n",
       "      <td>-0.021682</td>\n",
       "      <td>0.021990</td>\n",
       "      <td>-0.027285</td>\n",
       "      <td>-0.018095</td>\n",
       "      <td>-0.018439</td>\n",
       "      <td>0.000642</td>\n",
       "      <td>-0.041526</td>\n",
       "      <td>-0.007566</td>\n",
       "      <td>0.031117</td>\n",
       "      <td>-0.001239</td>\n",
       "      <td>-0.081160</td>\n",
       "      <td>-0.035896</td>\n",
       "      <td>-0.008828</td>\n",
       "      <td>-0.003110</td>\n",
       "      <td>0.039845</td>\n",
       "      <td>-0.016249</td>\n",
       "      <td>-0.000588</td>\n",
       "      <td>0.007588</td>\n",
       "      <td>-0.114250</td>\n",
       "    </tr>\n",
       "    <tr>\n",
       "      <th>No_of_days_stop</th>\n",
       "      <td>-0.021682</td>\n",
       "      <td>1.000000</td>\n",
       "      <td>-0.336132</td>\n",
       "      <td>0.356992</td>\n",
       "      <td>0.463217</td>\n",
       "      <td>0.459998</td>\n",
       "      <td>0.538875</td>\n",
       "      <td>0.420796</td>\n",
       "      <td>0.027494</td>\n",
       "      <td>-0.165747</td>\n",
       "      <td>0.145807</td>\n",
       "      <td>0.091122</td>\n",
       "      <td>-0.331459</td>\n",
       "      <td>0.165507</td>\n",
       "      <td>0.043929</td>\n",
       "      <td>-0.011028</td>\n",
       "      <td>-0.022601</td>\n",
       "      <td>-0.020222</td>\n",
       "      <td>0.030088</td>\n",
       "      <td>-0.006382</td>\n",
       "    </tr>\n",
       "    <tr>\n",
       "      <th>Issue_price</th>\n",
       "      <td>0.021990</td>\n",
       "      <td>-0.336132</td>\n",
       "      <td>1.000000</td>\n",
       "      <td>0.029448</td>\n",
       "      <td>0.486986</td>\n",
       "      <td>-0.316043</td>\n",
       "      <td>-0.064224</td>\n",
       "      <td>-0.275805</td>\n",
       "      <td>0.017376</td>\n",
       "      <td>0.119592</td>\n",
       "      <td>-0.070963</td>\n",
       "      <td>-0.017840</td>\n",
       "      <td>0.290018</td>\n",
       "      <td>-0.202958</td>\n",
       "      <td>0.084153</td>\n",
       "      <td>-0.069572</td>\n",
       "      <td>0.002041</td>\n",
       "      <td>-0.079263</td>\n",
       "      <td>0.078913</td>\n",
       "      <td>-0.010574</td>\n",
       "    </tr>\n",
       "    <tr>\n",
       "      <th>Industry_PE</th>\n",
       "      <td>-0.027285</td>\n",
       "      <td>0.356992</td>\n",
       "      <td>0.029448</td>\n",
       "      <td>1.000000</td>\n",
       "      <td>0.332451</td>\n",
       "      <td>0.026475</td>\n",
       "      <td>0.291032</td>\n",
       "      <td>0.211058</td>\n",
       "      <td>0.010604</td>\n",
       "      <td>-0.088424</td>\n",
       "      <td>-0.034878</td>\n",
       "      <td>-0.038379</td>\n",
       "      <td>0.050961</td>\n",
       "      <td>-0.111664</td>\n",
       "      <td>0.131943</td>\n",
       "      <td>-0.063831</td>\n",
       "      <td>-0.026852</td>\n",
       "      <td>-0.184343</td>\n",
       "      <td>0.197134</td>\n",
       "      <td>0.047021</td>\n",
       "    </tr>\n",
       "    <tr>\n",
       "      <th>Before OpenDay Price</th>\n",
       "      <td>-0.018095</td>\n",
       "      <td>0.463217</td>\n",
       "      <td>0.486986</td>\n",
       "      <td>0.332451</td>\n",
       "      <td>1.000000</td>\n",
       "      <td>0.016498</td>\n",
       "      <td>0.343053</td>\n",
       "      <td>0.007728</td>\n",
       "      <td>0.038845</td>\n",
       "      <td>-0.027433</td>\n",
       "      <td>0.081955</td>\n",
       "      <td>0.086764</td>\n",
       "      <td>-0.069667</td>\n",
       "      <td>-0.081152</td>\n",
       "      <td>0.169274</td>\n",
       "      <td>-0.058520</td>\n",
       "      <td>-0.017109</td>\n",
       "      <td>-0.100832</td>\n",
       "      <td>0.108871</td>\n",
       "      <td>-0.012186</td>\n",
       "    </tr>\n",
       "    <tr>\n",
       "      <th>Clawback_ratio</th>\n",
       "      <td>-0.018439</td>\n",
       "      <td>0.459998</td>\n",
       "      <td>-0.316043</td>\n",
       "      <td>0.026475</td>\n",
       "      <td>0.016498</td>\n",
       "      <td>1.000000</td>\n",
       "      <td>0.125305</td>\n",
       "      <td>0.029667</td>\n",
       "      <td>0.027173</td>\n",
       "      <td>-0.007779</td>\n",
       "      <td>0.264724</td>\n",
       "      <td>0.037261</td>\n",
       "      <td>-0.307885</td>\n",
       "      <td>0.417232</td>\n",
       "      <td>-0.240879</td>\n",
       "      <td>0.018573</td>\n",
       "      <td>0.070081</td>\n",
       "      <td>0.031105</td>\n",
       "      <td>-0.061487</td>\n",
       "      <td>0.007579</td>\n",
       "    </tr>\n",
       "    <tr>\n",
       "      <th>Before OpenDay PE</th>\n",
       "      <td>0.000642</td>\n",
       "      <td>0.538875</td>\n",
       "      <td>-0.064224</td>\n",
       "      <td>0.291032</td>\n",
       "      <td>0.343053</td>\n",
       "      <td>0.125305</td>\n",
       "      <td>1.000000</td>\n",
       "      <td>0.231963</td>\n",
       "      <td>0.002333</td>\n",
       "      <td>-0.051618</td>\n",
       "      <td>0.033599</td>\n",
       "      <td>0.078560</td>\n",
       "      <td>0.005879</td>\n",
       "      <td>-0.014743</td>\n",
       "      <td>0.056804</td>\n",
       "      <td>-0.055303</td>\n",
       "      <td>-0.041888</td>\n",
       "      <td>-0.048816</td>\n",
       "      <td>0.067177</td>\n",
       "      <td>-0.002022</td>\n",
       "    </tr>\n",
       "    <tr>\n",
       "      <th>Total_Issuance_cost_in_percentage</th>\n",
       "      <td>-0.041526</td>\n",
       "      <td>0.420796</td>\n",
       "      <td>-0.275805</td>\n",
       "      <td>0.211058</td>\n",
       "      <td>0.007728</td>\n",
       "      <td>0.029667</td>\n",
       "      <td>0.231963</td>\n",
       "      <td>1.000000</td>\n",
       "      <td>0.034272</td>\n",
       "      <td>-0.344752</td>\n",
       "      <td>-0.255423</td>\n",
       "      <td>0.006974</td>\n",
       "      <td>-0.021339</td>\n",
       "      <td>-0.166104</td>\n",
       "      <td>0.187727</td>\n",
       "      <td>-0.015146</td>\n",
       "      <td>-0.026099</td>\n",
       "      <td>0.062993</td>\n",
       "      <td>-0.052176</td>\n",
       "      <td>0.065212</td>\n",
       "    </tr>\n",
       "    <tr>\n",
       "      <th>face_value</th>\n",
       "      <td>-0.007566</td>\n",
       "      <td>0.027494</td>\n",
       "      <td>0.017376</td>\n",
       "      <td>0.010604</td>\n",
       "      <td>0.038845</td>\n",
       "      <td>0.027173</td>\n",
       "      <td>0.002333</td>\n",
       "      <td>0.034272</td>\n",
       "      <td>1.000000</td>\n",
       "      <td>-0.276203</td>\n",
       "      <td>-0.019993</td>\n",
       "      <td>-0.007204</td>\n",
       "      <td>-0.097763</td>\n",
       "      <td>-0.000532</td>\n",
       "      <td>0.037982</td>\n",
       "      <td>0.024783</td>\n",
       "      <td>0.011096</td>\n",
       "      <td>-0.006951</td>\n",
       "      <td>0.002219</td>\n",
       "      <td>-0.002777</td>\n",
       "    </tr>\n",
       "    <tr>\n",
       "      <th>IPO_MktCap</th>\n",
       "      <td>0.031117</td>\n",
       "      <td>-0.165747</td>\n",
       "      <td>0.119592</td>\n",
       "      <td>-0.088424</td>\n",
       "      <td>-0.027433</td>\n",
       "      <td>-0.007779</td>\n",
       "      <td>-0.051618</td>\n",
       "      <td>-0.344752</td>\n",
       "      <td>-0.276203</td>\n",
       "      <td>1.000000</td>\n",
       "      <td>0.500457</td>\n",
       "      <td>-0.024203</td>\n",
       "      <td>0.079061</td>\n",
       "      <td>0.097275</td>\n",
       "      <td>-0.103941</td>\n",
       "      <td>-0.045986</td>\n",
       "      <td>0.005566</td>\n",
       "      <td>-0.056505</td>\n",
       "      <td>0.054485</td>\n",
       "      <td>-0.018604</td>\n",
       "    </tr>\n",
       "    <tr>\n",
       "      <th>Before OpenDay MktCap</th>\n",
       "      <td>-0.001239</td>\n",
       "      <td>0.145807</td>\n",
       "      <td>-0.070963</td>\n",
       "      <td>-0.034878</td>\n",
       "      <td>0.081955</td>\n",
       "      <td>0.264724</td>\n",
       "      <td>0.033599</td>\n",
       "      <td>-0.255423</td>\n",
       "      <td>-0.019993</td>\n",
       "      <td>0.500457</td>\n",
       "      <td>1.000000</td>\n",
       "      <td>0.008208</td>\n",
       "      <td>-0.107017</td>\n",
       "      <td>0.215348</td>\n",
       "      <td>-0.126391</td>\n",
       "      <td>-0.025053</td>\n",
       "      <td>0.000978</td>\n",
       "      <td>-0.113061</td>\n",
       "      <td>0.113394</td>\n",
       "      <td>-0.031489</td>\n",
       "    </tr>\n",
       "    <tr>\n",
       "      <th>Mkt Trend</th>\n",
       "      <td>-0.081160</td>\n",
       "      <td>0.091122</td>\n",
       "      <td>-0.017840</td>\n",
       "      <td>-0.038379</td>\n",
       "      <td>0.086764</td>\n",
       "      <td>0.037261</td>\n",
       "      <td>0.078560</td>\n",
       "      <td>0.006974</td>\n",
       "      <td>-0.007204</td>\n",
       "      <td>-0.024203</td>\n",
       "      <td>0.008208</td>\n",
       "      <td>1.000000</td>\n",
       "      <td>-0.017259</td>\n",
       "      <td>0.050232</td>\n",
       "      <td>-0.023204</td>\n",
       "      <td>-0.018924</td>\n",
       "      <td>0.017043</td>\n",
       "      <td>-0.007979</td>\n",
       "      <td>0.000694</td>\n",
       "      <td>0.012834</td>\n",
       "    </tr>\n",
       "    <tr>\n",
       "      <th>board_=_1.0</th>\n",
       "      <td>-0.035896</td>\n",
       "      <td>-0.331459</td>\n",
       "      <td>0.290018</td>\n",
       "      <td>0.050961</td>\n",
       "      <td>-0.069667</td>\n",
       "      <td>-0.307885</td>\n",
       "      <td>0.005879</td>\n",
       "      <td>-0.021339</td>\n",
       "      <td>-0.097763</td>\n",
       "      <td>0.079061</td>\n",
       "      <td>-0.107017</td>\n",
       "      <td>-0.017259</td>\n",
       "      <td>1.000000</td>\n",
       "      <td>-0.224803</td>\n",
       "      <td>-0.242351</td>\n",
       "      <td>-0.158132</td>\n",
       "      <td>-0.070804</td>\n",
       "      <td>-0.013101</td>\n",
       "      <td>0.043674</td>\n",
       "      <td>-0.012589</td>\n",
       "    </tr>\n",
       "    <tr>\n",
       "      <th>board_=_2.0</th>\n",
       "      <td>-0.008828</td>\n",
       "      <td>0.165507</td>\n",
       "      <td>-0.202958</td>\n",
       "      <td>-0.111664</td>\n",
       "      <td>-0.081152</td>\n",
       "      <td>0.417232</td>\n",
       "      <td>-0.014743</td>\n",
       "      <td>-0.166104</td>\n",
       "      <td>-0.000532</td>\n",
       "      <td>0.097275</td>\n",
       "      <td>0.215348</td>\n",
       "      <td>0.050232</td>\n",
       "      <td>-0.224803</td>\n",
       "      <td>1.000000</td>\n",
       "      <td>-0.548218</td>\n",
       "      <td>-0.357708</td>\n",
       "      <td>0.068082</td>\n",
       "      <td>0.062926</td>\n",
       "      <td>-0.092660</td>\n",
       "      <td>-0.084741</td>\n",
       "    </tr>\n",
       "    <tr>\n",
       "      <th>board_=_3.0</th>\n",
       "      <td>-0.003110</td>\n",
       "      <td>0.043929</td>\n",
       "      <td>0.084153</td>\n",
       "      <td>0.131943</td>\n",
       "      <td>0.169274</td>\n",
       "      <td>-0.240879</td>\n",
       "      <td>0.056804</td>\n",
       "      <td>0.187727</td>\n",
       "      <td>0.037982</td>\n",
       "      <td>-0.103941</td>\n",
       "      <td>-0.126391</td>\n",
       "      <td>-0.023204</td>\n",
       "      <td>-0.242351</td>\n",
       "      <td>-0.548218</td>\n",
       "      <td>1.000000</td>\n",
       "      <td>-0.385630</td>\n",
       "      <td>-0.072411</td>\n",
       "      <td>-0.059785</td>\n",
       "      <td>0.091362</td>\n",
       "      <td>0.069931</td>\n",
       "    </tr>\n",
       "    <tr>\n",
       "      <th>board_=_4.0</th>\n",
       "      <td>0.039845</td>\n",
       "      <td>-0.011028</td>\n",
       "      <td>-0.069572</td>\n",
       "      <td>-0.063831</td>\n",
       "      <td>-0.058520</td>\n",
       "      <td>0.018573</td>\n",
       "      <td>-0.055303</td>\n",
       "      <td>-0.015146</td>\n",
       "      <td>0.024783</td>\n",
       "      <td>-0.045986</td>\n",
       "      <td>-0.025053</td>\n",
       "      <td>-0.018924</td>\n",
       "      <td>-0.158132</td>\n",
       "      <td>-0.357708</td>\n",
       "      <td>-0.385630</td>\n",
       "      <td>1.000000</td>\n",
       "      <td>0.057659</td>\n",
       "      <td>0.007231</td>\n",
       "      <td>-0.032106</td>\n",
       "      <td>0.024647</td>\n",
       "    </tr>\n",
       "    <tr>\n",
       "      <th>industry_=_1.0</th>\n",
       "      <td>-0.016249</td>\n",
       "      <td>-0.022601</td>\n",
       "      <td>0.002041</td>\n",
       "      <td>-0.026852</td>\n",
       "      <td>-0.017109</td>\n",
       "      <td>0.070081</td>\n",
       "      <td>-0.041888</td>\n",
       "      <td>-0.026099</td>\n",
       "      <td>0.011096</td>\n",
       "      <td>0.005566</td>\n",
       "      <td>0.000978</td>\n",
       "      <td>0.017043</td>\n",
       "      <td>-0.070804</td>\n",
       "      <td>0.068082</td>\n",
       "      <td>-0.072411</td>\n",
       "      <td>0.057659</td>\n",
       "      <td>1.000000</td>\n",
       "      <td>-0.229302</td>\n",
       "      <td>-0.199742</td>\n",
       "      <td>0.004322</td>\n",
       "    </tr>\n",
       "    <tr>\n",
       "      <th>industry_=_2.0</th>\n",
       "      <td>-0.000588</td>\n",
       "      <td>-0.020222</td>\n",
       "      <td>-0.079263</td>\n",
       "      <td>-0.184343</td>\n",
       "      <td>-0.100832</td>\n",
       "      <td>0.031105</td>\n",
       "      <td>-0.048816</td>\n",
       "      <td>0.062993</td>\n",
       "      <td>-0.006951</td>\n",
       "      <td>-0.056505</td>\n",
       "      <td>-0.113061</td>\n",
       "      <td>-0.007979</td>\n",
       "      <td>-0.013101</td>\n",
       "      <td>0.062926</td>\n",
       "      <td>-0.059785</td>\n",
       "      <td>0.007231</td>\n",
       "      <td>-0.229302</td>\n",
       "      <td>1.000000</td>\n",
       "      <td>-0.907940</td>\n",
       "      <td>0.016867</td>\n",
       "    </tr>\n",
       "    <tr>\n",
       "      <th>industry_=_3.0</th>\n",
       "      <td>0.007588</td>\n",
       "      <td>0.030088</td>\n",
       "      <td>0.078913</td>\n",
       "      <td>0.197134</td>\n",
       "      <td>0.108871</td>\n",
       "      <td>-0.061487</td>\n",
       "      <td>0.067177</td>\n",
       "      <td>-0.052176</td>\n",
       "      <td>0.002219</td>\n",
       "      <td>0.054485</td>\n",
       "      <td>0.113394</td>\n",
       "      <td>0.000694</td>\n",
       "      <td>0.043674</td>\n",
       "      <td>-0.092660</td>\n",
       "      <td>0.091362</td>\n",
       "      <td>-0.032106</td>\n",
       "      <td>-0.199742</td>\n",
       "      <td>-0.907940</td>\n",
       "      <td>1.000000</td>\n",
       "      <td>-0.018840</td>\n",
       "    </tr>\n",
       "    <tr>\n",
       "      <th>Y1</th>\n",
       "      <td>-0.114250</td>\n",
       "      <td>-0.006382</td>\n",
       "      <td>-0.010574</td>\n",
       "      <td>0.047021</td>\n",
       "      <td>-0.012186</td>\n",
       "      <td>0.007579</td>\n",
       "      <td>-0.002022</td>\n",
       "      <td>0.065212</td>\n",
       "      <td>-0.002777</td>\n",
       "      <td>-0.018604</td>\n",
       "      <td>-0.031489</td>\n",
       "      <td>0.012834</td>\n",
       "      <td>-0.012589</td>\n",
       "      <td>-0.084741</td>\n",
       "      <td>0.069931</td>\n",
       "      <td>0.024647</td>\n",
       "      <td>0.004322</td>\n",
       "      <td>0.016867</td>\n",
       "      <td>-0.018840</td>\n",
       "      <td>1.000000</td>\n",
       "    </tr>\n",
       "  </tbody>\n",
       "</table>\n",
       "</div>"
      ],
      "text/plain": [
       "                                      Month  No_of_days_stop  Issue_price  \\\n",
       "Month                              1.000000        -0.021682     0.021990   \n",
       "No_of_days_stop                   -0.021682         1.000000    -0.336132   \n",
       "Issue_price                        0.021990        -0.336132     1.000000   \n",
       "Industry_PE                       -0.027285         0.356992     0.029448   \n",
       "Before OpenDay Price              -0.018095         0.463217     0.486986   \n",
       "Clawback_ratio                    -0.018439         0.459998    -0.316043   \n",
       "Before OpenDay PE                  0.000642         0.538875    -0.064224   \n",
       "Total_Issuance_cost_in_percentage -0.041526         0.420796    -0.275805   \n",
       "face_value                        -0.007566         0.027494     0.017376   \n",
       "IPO_MktCap                         0.031117        -0.165747     0.119592   \n",
       "Before OpenDay MktCap             -0.001239         0.145807    -0.070963   \n",
       "Mkt Trend                         -0.081160         0.091122    -0.017840   \n",
       "board_=_1.0                       -0.035896        -0.331459     0.290018   \n",
       "board_=_2.0                       -0.008828         0.165507    -0.202958   \n",
       "board_=_3.0                       -0.003110         0.043929     0.084153   \n",
       "board_=_4.0                        0.039845        -0.011028    -0.069572   \n",
       "industry_=_1.0                    -0.016249        -0.022601     0.002041   \n",
       "industry_=_2.0                    -0.000588        -0.020222    -0.079263   \n",
       "industry_=_3.0                     0.007588         0.030088     0.078913   \n",
       "Y1                                -0.114250        -0.006382    -0.010574   \n",
       "\n",
       "                                   Industry_PE  Before OpenDay Price  \\\n",
       "Month                                -0.027285             -0.018095   \n",
       "No_of_days_stop                       0.356992              0.463217   \n",
       "Issue_price                           0.029448              0.486986   \n",
       "Industry_PE                           1.000000              0.332451   \n",
       "Before OpenDay Price                  0.332451              1.000000   \n",
       "Clawback_ratio                        0.026475              0.016498   \n",
       "Before OpenDay PE                     0.291032              0.343053   \n",
       "Total_Issuance_cost_in_percentage     0.211058              0.007728   \n",
       "face_value                            0.010604              0.038845   \n",
       "IPO_MktCap                           -0.088424             -0.027433   \n",
       "Before OpenDay MktCap                -0.034878              0.081955   \n",
       "Mkt Trend                            -0.038379              0.086764   \n",
       "board_=_1.0                           0.050961             -0.069667   \n",
       "board_=_2.0                          -0.111664             -0.081152   \n",
       "board_=_3.0                           0.131943              0.169274   \n",
       "board_=_4.0                          -0.063831             -0.058520   \n",
       "industry_=_1.0                       -0.026852             -0.017109   \n",
       "industry_=_2.0                       -0.184343             -0.100832   \n",
       "industry_=_3.0                        0.197134              0.108871   \n",
       "Y1                                    0.047021             -0.012186   \n",
       "\n",
       "                                   Clawback_ratio  Before OpenDay PE  \\\n",
       "Month                                   -0.018439           0.000642   \n",
       "No_of_days_stop                          0.459998           0.538875   \n",
       "Issue_price                             -0.316043          -0.064224   \n",
       "Industry_PE                              0.026475           0.291032   \n",
       "Before OpenDay Price                     0.016498           0.343053   \n",
       "Clawback_ratio                           1.000000           0.125305   \n",
       "Before OpenDay PE                        0.125305           1.000000   \n",
       "Total_Issuance_cost_in_percentage        0.029667           0.231963   \n",
       "face_value                               0.027173           0.002333   \n",
       "IPO_MktCap                              -0.007779          -0.051618   \n",
       "Before OpenDay MktCap                    0.264724           0.033599   \n",
       "Mkt Trend                                0.037261           0.078560   \n",
       "board_=_1.0                             -0.307885           0.005879   \n",
       "board_=_2.0                              0.417232          -0.014743   \n",
       "board_=_3.0                             -0.240879           0.056804   \n",
       "board_=_4.0                              0.018573          -0.055303   \n",
       "industry_=_1.0                           0.070081          -0.041888   \n",
       "industry_=_2.0                           0.031105          -0.048816   \n",
       "industry_=_3.0                          -0.061487           0.067177   \n",
       "Y1                                       0.007579          -0.002022   \n",
       "\n",
       "                                   Total_Issuance_cost_in_percentage  \\\n",
       "Month                                                      -0.041526   \n",
       "No_of_days_stop                                             0.420796   \n",
       "Issue_price                                                -0.275805   \n",
       "Industry_PE                                                 0.211058   \n",
       "Before OpenDay Price                                        0.007728   \n",
       "Clawback_ratio                                              0.029667   \n",
       "Before OpenDay PE                                           0.231963   \n",
       "Total_Issuance_cost_in_percentage                           1.000000   \n",
       "face_value                                                  0.034272   \n",
       "IPO_MktCap                                                 -0.344752   \n",
       "Before OpenDay MktCap                                      -0.255423   \n",
       "Mkt Trend                                                   0.006974   \n",
       "board_=_1.0                                                -0.021339   \n",
       "board_=_2.0                                                -0.166104   \n",
       "board_=_3.0                                                 0.187727   \n",
       "board_=_4.0                                                -0.015146   \n",
       "industry_=_1.0                                             -0.026099   \n",
       "industry_=_2.0                                              0.062993   \n",
       "industry_=_3.0                                             -0.052176   \n",
       "Y1                                                          0.065212   \n",
       "\n",
       "                                   face_value  IPO_MktCap  \\\n",
       "Month                               -0.007566    0.031117   \n",
       "No_of_days_stop                      0.027494   -0.165747   \n",
       "Issue_price                          0.017376    0.119592   \n",
       "Industry_PE                          0.010604   -0.088424   \n",
       "Before OpenDay Price                 0.038845   -0.027433   \n",
       "Clawback_ratio                       0.027173   -0.007779   \n",
       "Before OpenDay PE                    0.002333   -0.051618   \n",
       "Total_Issuance_cost_in_percentage    0.034272   -0.344752   \n",
       "face_value                           1.000000   -0.276203   \n",
       "IPO_MktCap                          -0.276203    1.000000   \n",
       "Before OpenDay MktCap               -0.019993    0.500457   \n",
       "Mkt Trend                           -0.007204   -0.024203   \n",
       "board_=_1.0                         -0.097763    0.079061   \n",
       "board_=_2.0                         -0.000532    0.097275   \n",
       "board_=_3.0                          0.037982   -0.103941   \n",
       "board_=_4.0                          0.024783   -0.045986   \n",
       "industry_=_1.0                       0.011096    0.005566   \n",
       "industry_=_2.0                      -0.006951   -0.056505   \n",
       "industry_=_3.0                       0.002219    0.054485   \n",
       "Y1                                  -0.002777   -0.018604   \n",
       "\n",
       "                                   Before OpenDay MktCap  Mkt Trend  \\\n",
       "Month                                          -0.001239  -0.081160   \n",
       "No_of_days_stop                                 0.145807   0.091122   \n",
       "Issue_price                                    -0.070963  -0.017840   \n",
       "Industry_PE                                    -0.034878  -0.038379   \n",
       "Before OpenDay Price                            0.081955   0.086764   \n",
       "Clawback_ratio                                  0.264724   0.037261   \n",
       "Before OpenDay PE                               0.033599   0.078560   \n",
       "Total_Issuance_cost_in_percentage              -0.255423   0.006974   \n",
       "face_value                                     -0.019993  -0.007204   \n",
       "IPO_MktCap                                      0.500457  -0.024203   \n",
       "Before OpenDay MktCap                           1.000000   0.008208   \n",
       "Mkt Trend                                       0.008208   1.000000   \n",
       "board_=_1.0                                    -0.107017  -0.017259   \n",
       "board_=_2.0                                     0.215348   0.050232   \n",
       "board_=_3.0                                    -0.126391  -0.023204   \n",
       "board_=_4.0                                    -0.025053  -0.018924   \n",
       "industry_=_1.0                                  0.000978   0.017043   \n",
       "industry_=_2.0                                 -0.113061  -0.007979   \n",
       "industry_=_3.0                                  0.113394   0.000694   \n",
       "Y1                                             -0.031489   0.012834   \n",
       "\n",
       "                                   board_=_1.0  board_=_2.0  board_=_3.0  \\\n",
       "Month                                -0.035896    -0.008828    -0.003110   \n",
       "No_of_days_stop                      -0.331459     0.165507     0.043929   \n",
       "Issue_price                           0.290018    -0.202958     0.084153   \n",
       "Industry_PE                           0.050961    -0.111664     0.131943   \n",
       "Before OpenDay Price                 -0.069667    -0.081152     0.169274   \n",
       "Clawback_ratio                       -0.307885     0.417232    -0.240879   \n",
       "Before OpenDay PE                     0.005879    -0.014743     0.056804   \n",
       "Total_Issuance_cost_in_percentage    -0.021339    -0.166104     0.187727   \n",
       "face_value                           -0.097763    -0.000532     0.037982   \n",
       "IPO_MktCap                            0.079061     0.097275    -0.103941   \n",
       "Before OpenDay MktCap                -0.107017     0.215348    -0.126391   \n",
       "Mkt Trend                            -0.017259     0.050232    -0.023204   \n",
       "board_=_1.0                           1.000000    -0.224803    -0.242351   \n",
       "board_=_2.0                          -0.224803     1.000000    -0.548218   \n",
       "board_=_3.0                          -0.242351    -0.548218     1.000000   \n",
       "board_=_4.0                          -0.158132    -0.357708    -0.385630   \n",
       "industry_=_1.0                       -0.070804     0.068082    -0.072411   \n",
       "industry_=_2.0                       -0.013101     0.062926    -0.059785   \n",
       "industry_=_3.0                        0.043674    -0.092660     0.091362   \n",
       "Y1                                   -0.012589    -0.084741     0.069931   \n",
       "\n",
       "                                   board_=_4.0  industry_=_1.0  \\\n",
       "Month                                 0.039845       -0.016249   \n",
       "No_of_days_stop                      -0.011028       -0.022601   \n",
       "Issue_price                          -0.069572        0.002041   \n",
       "Industry_PE                          -0.063831       -0.026852   \n",
       "Before OpenDay Price                 -0.058520       -0.017109   \n",
       "Clawback_ratio                        0.018573        0.070081   \n",
       "Before OpenDay PE                    -0.055303       -0.041888   \n",
       "Total_Issuance_cost_in_percentage    -0.015146       -0.026099   \n",
       "face_value                            0.024783        0.011096   \n",
       "IPO_MktCap                           -0.045986        0.005566   \n",
       "Before OpenDay MktCap                -0.025053        0.000978   \n",
       "Mkt Trend                            -0.018924        0.017043   \n",
       "board_=_1.0                          -0.158132       -0.070804   \n",
       "board_=_2.0                          -0.357708        0.068082   \n",
       "board_=_3.0                          -0.385630       -0.072411   \n",
       "board_=_4.0                           1.000000        0.057659   \n",
       "industry_=_1.0                        0.057659        1.000000   \n",
       "industry_=_2.0                        0.007231       -0.229302   \n",
       "industry_=_3.0                       -0.032106       -0.199742   \n",
       "Y1                                    0.024647        0.004322   \n",
       "\n",
       "                                   industry_=_2.0  industry_=_3.0        Y1  \n",
       "Month                                   -0.000588        0.007588 -0.114250  \n",
       "No_of_days_stop                         -0.020222        0.030088 -0.006382  \n",
       "Issue_price                             -0.079263        0.078913 -0.010574  \n",
       "Industry_PE                             -0.184343        0.197134  0.047021  \n",
       "Before OpenDay Price                    -0.100832        0.108871 -0.012186  \n",
       "Clawback_ratio                           0.031105       -0.061487  0.007579  \n",
       "Before OpenDay PE                       -0.048816        0.067177 -0.002022  \n",
       "Total_Issuance_cost_in_percentage        0.062993       -0.052176  0.065212  \n",
       "face_value                              -0.006951        0.002219 -0.002777  \n",
       "IPO_MktCap                              -0.056505        0.054485 -0.018604  \n",
       "Before OpenDay MktCap                   -0.113061        0.113394 -0.031489  \n",
       "Mkt Trend                               -0.007979        0.000694  0.012834  \n",
       "board_=_1.0                             -0.013101        0.043674 -0.012589  \n",
       "board_=_2.0                              0.062926       -0.092660 -0.084741  \n",
       "board_=_3.0                             -0.059785        0.091362  0.069931  \n",
       "board_=_4.0                              0.007231       -0.032106  0.024647  \n",
       "industry_=_1.0                          -0.229302       -0.199742  0.004322  \n",
       "industry_=_2.0                           1.000000       -0.907940  0.016867  \n",
       "industry_=_3.0                          -0.907940        1.000000 -0.018840  \n",
       "Y1                                       0.016867       -0.018840  1.000000  "
      ]
     },
     "execution_count": 30,
     "metadata": {},
     "output_type": "execute_result"
    }
   ],
   "source": [
    "#We can see that the correlations between these variables are almost relative small\n",
    "IPO_info[selected_columns].corr()"
   ]
  },
  {
   "cell_type": "code",
   "execution_count": 31,
   "metadata": {},
   "outputs": [
    {
     "data": {
      "text/plain": [
       "Index(['Month', 'No_of_days_stop', 'Issue_price', 'Industry_PE',\n",
       "       'Before OpenDay Price', 'Clawback_ratio', 'Before OpenDay PE',\n",
       "       'Total_Issuance_cost_in_percentage', 'face_value', 'IPO_MktCap',\n",
       "       'Before OpenDay MktCap', 'Mkt Trend', 'board_=_1.0', 'board_=_2.0',\n",
       "       'board_=_3.0', 'board_=_4.0', 'industry_=_1.0', 'industry_=_2.0',\n",
       "       'industry_=_3.0', 'Y1'],\n",
       "      dtype='object')"
      ]
     },
     "execution_count": 31,
     "metadata": {},
     "output_type": "execute_result"
    }
   ],
   "source": [
    "ML_info=IPO_info[selected_columns]\n",
    "ML_info.columns"
   ]
  },
  {
   "cell_type": "code",
   "execution_count": 32,
   "metadata": {},
   "outputs": [
    {
     "name": "stdout",
     "output_type": "stream",
     "text": [
      "Counter({0.0: 1703, 1.0: 421})\n",
      "Counter({0.0: 1703, 1.0: 1703})\n"
     ]
    }
   ],
   "source": [
    "num_row=ML_info.shape[0]\n",
    "np.random.seed(20210624)\n",
    "y1=ML_info.iloc[:,-1].values\n",
    "x1=ML_info.iloc[:,:-1].values\n",
    "#ML_info.shape\n",
    "print(Counter(y1))\n",
    "smo = SMOTE(random_state=42)\n",
    "x1 = x1.astype('float64')\n",
    "x1_smo, y1_smo = smo.fit_resample(x1, y1)\n",
    "print(Counter(y1_smo))"
   ]
  },
  {
   "cell_type": "code",
   "execution_count": 33,
   "metadata": {},
   "outputs": [],
   "source": [
    "#We combine the data after over_sampling"
   ]
  },
  {
   "cell_type": "code",
   "execution_count": 34,
   "metadata": {},
   "outputs": [],
   "source": [
    "data=pd.concat([pd.DataFrame(x1_smo),pd.DataFrame(y1_smo)],axis=1)\n",
    "data.columns=['Month', 'No_of_days_stop', 'Issue_price', 'Industry_PE',\n",
    "       'Before OpenDay Price', 'Clawback_ratio', 'Before OpenDay PE',\n",
    "       'Total_Issuance_cost_in_percentage', 'face_value', 'IPO_MktCap',\n",
    "       'Before OpenDay MktCap', 'Mkt Trend', 'board_=_1.0', 'board_=_2.0',\n",
    "       'board_=_3.0', 'board_=_4.0', 'industry_=_1.0', 'industry_=_2.0',\n",
    "       'industry_=_3.0', 'Y1']"
   ]
  },
  {
   "cell_type": "markdown",
   "metadata": {},
   "source": [
    "## Part 2. Model Building"
   ]
  },
  {
   "cell_type": "code",
   "execution_count": 35,
   "metadata": {},
   "outputs": [],
   "source": [
    "x1_train, x1_test, y1_train, y1_test = model_selection.train_test_split(data.iloc[:,:-1], data.iloc[:,-1].astype(int), test_size = 0.5, random_state = 2020)\n",
    "min_max_scaler = preprocessing.MinMaxScaler()\n",
    "x1_train = min_max_scaler.fit_transform(x1_train)\n",
    "x1_test = min_max_scaler.transform(x1_test)"
   ]
  },
  {
   "cell_type": "code",
   "execution_count": 36,
   "metadata": {},
   "outputs": [
    {
     "data": {
      "text/plain": [
       "array([[0.71945051, 0.        , 0.06314215, ..., 0.        , 0.63798521,\n",
       "        0.36201479],\n",
       "       [1.        , 0.        , 0.09803415, ..., 0.        , 0.        ,\n",
       "        1.        ],\n",
       "       [0.74760131, 0.27586207, 0.08016654, ..., 0.22361443, 0.77638557,\n",
       "        0.        ],\n",
       "       ...,\n",
       "       [0.        , 0.03448276, 0.09108252, ..., 0.        , 1.        ,\n",
       "        0.        ],\n",
       "       [0.54545455, 0.24137931, 0.07541513, ..., 0.        , 1.        ,\n",
       "        0.        ],\n",
       "       [0.90909091, 0.13793103, 0.05995398, ..., 0.        , 0.        ,\n",
       "        1.        ]])"
      ]
     },
     "execution_count": 36,
     "metadata": {},
     "output_type": "execute_result"
    }
   ],
   "source": [
    "x1_train"
   ]
  },
  {
   "cell_type": "markdown",
   "metadata": {},
   "source": [
    "### Model 1：Logistic Regression（LR）"
   ]
  },
  {
   "cell_type": "code",
   "execution_count": 37,
   "metadata": {},
   "outputs": [],
   "source": [
    "#We use GridSearchCV method"
   ]
  },
  {
   "cell_type": "code",
   "execution_count": 71,
   "metadata": {},
   "outputs": [
    {
     "data": {
      "text/plain": [
       "GridSearchCV(cv=10, estimator=LogisticRegression(solver='liblinear'),\n",
       "             param_grid={'C': [1, 10, 100, 1000]},\n",
       "             scoring=make_scorer(fbeta_score, beta=0.5))"
      ]
     },
     "execution_count": 71,
     "metadata": {},
     "output_type": "execute_result"
    }
   ],
   "source": [
    "fhalf_scorer = metrics.make_scorer(metrics.fbeta_score, beta = 0.5)\n",
    "grid = model_selection.GridSearchCV(linear_model.LogisticRegression(solver = 'liblinear'),\n",
    "                    param_grid = {'C': [1, 10, 100, 1000]}, scoring = fhalf_scorer, cv = 10)\n",
    "grid.fit(x1_train, y1_train)"
   ]
  },
  {
   "cell_type": "code",
   "execution_count": 72,
   "metadata": {},
   "outputs": [
    {
     "data": {
      "text/plain": [
       "{'C': 1}"
      ]
     },
     "execution_count": 72,
     "metadata": {},
     "output_type": "execute_result"
    }
   ],
   "source": [
    "grid.best_params_"
   ]
  },
  {
   "cell_type": "code",
   "execution_count": 73,
   "metadata": {},
   "outputs": [
    {
     "name": "stdout",
     "output_type": "stream",
     "text": [
      "Logistic_Score: 0.5713446858485026\n",
      "Logistic_Coefficients: [[-1.04 -0.84 -0.69  1.21  0.1   0.33  0.23  1.01  0.24  0.08 -0.2   0.07\n",
      "  -0.1  -0.43  0.29  0.13  0.37 -0.25 -0.24]]\n"
     ]
    }
   ],
   "source": [
    "logit1 = linear_model.LogisticRegression(C=1,solver = 'liblinear')\n",
    "logit1.fit(x1_train, y1_train)\n",
    "print('Logistic_Score:', logit1.score(x1_test, y1_test))\n",
    "print('Logistic_Coefficients:', logit1.coef_)"
   ]
  },
  {
   "cell_type": "code",
   "execution_count": 74,
   "metadata": {},
   "outputs": [
    {
     "name": "stdout",
     "output_type": "stream",
     "text": [
      "The confusion matrix of Y1:\n"
     ]
    },
    {
     "data": {
      "text/plain": [
       "array([[491, 363],\n",
       "       [367, 482]], dtype=int64)"
      ]
     },
     "execution_count": 74,
     "metadata": {},
     "output_type": "execute_result"
    }
   ],
   "source": [
    "y1_predict = logit1.predict(x1_test)\n",
    "print(\"The confusion matrix of Y1:\")\n",
    "confusion_matrix(y1_test, y1_predict)"
   ]
  },
  {
   "cell_type": "code",
   "execution_count": 75,
   "metadata": {},
   "outputs": [],
   "source": [
    "def plot_confusion_matrix(cm, classes,\n",
    "                          normalize=False,\n",
    "                          title='Confusion matrix',\n",
    "                          cmap=plt.cm.Blues):\n",
    "    \"\"\"\n",
    "    This function prints and plots the confusion matrix.\n",
    "    Normalization can be applied by setting `normalize=True`.\n",
    "    \"\"\"\n",
    "    if normalize:\n",
    "        cm = cm.astype('float') / cm.sum(axis=1)[:, np.newaxis]\n",
    "        print(\"Normalized confusion matrix\")\n",
    "    else:\n",
    "        print('Confusion matrix, without normalization')\n",
    "\n",
    "    print(cm)\n",
    "\n",
    "    plt.imshow(cm, interpolation='nearest', cmap=cmap)\n",
    "    plt.title(title)\n",
    "    plt.colorbar()\n",
    "    tick_marks = np.arange(len(classes))\n",
    "    plt.xticks(tick_marks, classes, rotation=45)\n",
    "    plt.yticks(tick_marks, classes)\n",
    "\n",
    "    fmt = '.2f' if normalize else 'd'\n",
    "    thresh = cm.max() / 2.\n",
    "    for i, j in itertools.product(range(cm.shape[0]), range(cm.shape[1])):\n",
    "        plt.text(j, i, format(cm[i, j], fmt),\n",
    "                 horizontalalignment=\"center\",\n",
    "                 color=\"white\" if cm[i, j] > thresh else \"black\")\n",
    "\n",
    "    plt.tight_layout()\n",
    "    plt.ylabel('True label')\n",
    "    plt.xlabel('Predicted label')"
   ]
  },
  {
   "cell_type": "code",
   "execution_count": 76,
   "metadata": {},
   "outputs": [
    {
     "name": "stdout",
     "output_type": "stream",
     "text": [
      "Confusion matrix, without normalization\n",
      "[[491 363]\n",
      " [367 482]]\n"
     ]
    },
    {
     "data": {
      "image/png": "[encoded data removed]",
      "text/plain": [
       "<Figure size 432x288 with 2 Axes>"
      ]
     },
     "metadata": {},
     "output_type": "display_data"
    }
   ],
   "source": [
    "confmat1 = confusion_matrix(y_true=y1_test, y_pred=logit1.predict(x1_test))\n",
    "labels = ['0','1']\n",
    "np.set_printoptions(precision=2)\n",
    "plt.figure()\n",
    "plot_confusion_matrix(confmat1, classes=labels, title='Confusion matrix')\n",
    "plt.savefig(\"CM_LR_10\",dpi=300)"
   ]
  },
  {
   "cell_type": "code",
   "execution_count": 77,
   "metadata": {},
   "outputs": [],
   "source": [
    "#Performance Evaluation"
   ]
  },
  {
   "cell_type": "code",
   "execution_count": 78,
   "metadata": {},
   "outputs": [
    {
     "name": "stdout",
     "output_type": "stream",
     "text": [
      "Precision for Y1: 0.570414201183432\n",
      "Recall for Y1: 0.5677267373380448\n",
      "F1_score for Y1: 0.5690672963400236\n",
      "F0.5 score for Y1: 0.5698746748640341\n",
      "Area_Under_Curve for Y1: 0.5959442573298797\n",
      "Log_Loss for Y1: 14.805400482766858\n"
     ]
    },
    {
     "data": {
      "text/html": [
       "<div>\n",
       "<style scoped>\n",
       "    .dataframe tbody tr th:only-of-type {\n",
       "        vertical-align: middle;\n",
       "    }\n",
       "\n",
       "    .dataframe tbody tr th {\n",
       "        vertical-align: top;\n",
       "    }\n",
       "\n",
       "    .dataframe thead th {\n",
       "        text-align: right;\n",
       "    }\n",
       "</style>\n",
       "<table border=\"1\" class=\"dataframe\">\n",
       "  <thead>\n",
       "    <tr style=\"text-align: right;\">\n",
       "      <th></th>\n",
       "      <th></th>\n",
       "      <th>LR</th>\n",
       "    </tr>\n",
       "  </thead>\n",
       "  <tbody>\n",
       "    <tr>\n",
       "      <th>Precision_Score</th>\n",
       "      <th>Y1</th>\n",
       "      <td>0.570414</td>\n",
       "    </tr>\n",
       "    <tr>\n",
       "      <th>Recall_Score</th>\n",
       "      <th>Y1</th>\n",
       "      <td>0.567727</td>\n",
       "    </tr>\n",
       "    <tr>\n",
       "      <th>F1_Score</th>\n",
       "      <th>Y1</th>\n",
       "      <td>0.569067</td>\n",
       "    </tr>\n",
       "    <tr>\n",
       "      <th>F0.5_Score</th>\n",
       "      <th>Y1</th>\n",
       "      <td>0.569875</td>\n",
       "    </tr>\n",
       "    <tr>\n",
       "      <th>AUC</th>\n",
       "      <th>Y1</th>\n",
       "      <td>0.595944</td>\n",
       "    </tr>\n",
       "    <tr>\n",
       "      <th>Log_Loss</th>\n",
       "      <th>Y1</th>\n",
       "      <td>14.805400</td>\n",
       "    </tr>\n",
       "  </tbody>\n",
       "</table>\n",
       "</div>"
      ],
      "text/plain": [
       "                           LR\n",
       "Precision_Score Y1   0.570414\n",
       "Recall_Score    Y1   0.567727\n",
       "F1_Score        Y1   0.569067\n",
       "F0.5_Score      Y1   0.569875\n",
       "AUC             Y1   0.595944\n",
       "Log_Loss        Y1  14.805400"
      ]
     },
     "execution_count": 78,
     "metadata": {},
     "output_type": "execute_result"
    }
   ],
   "source": [
    "Precision_log1=precision_score(y1_test, y1_predict,average=\"binary\")\n",
    "print(\"Precision for Y1:\",Precision_log1)\n",
    "Recall_log1=recall_score(y1_test, y1_predict)\n",
    "print(\"Recall for Y1:\",Recall_log1)\n",
    "F1_log1=f1_score(y1_test, y1_predict)\n",
    "print(\"F1_score for Y1:\",F1_log1)\n",
    "fhalf_log1 = metrics.fbeta_score(y1_test, y1_predict, beta = 0.5)\n",
    "print('F0.5 score for Y1:', fhalf_log1)\n",
    "lr1_proba = logit1.predict_proba(x1_test)\n",
    "lr_1_proba=lr1_proba[:,1]\n",
    "AUC_log1=roc_auc_score(y1_test, lr_1_proba)\n",
    "print(\"Area_Under_Curve for Y1:\",AUC_log1)\n",
    "LL_log1=log_loss(y1_test,y1_predict,eps=1e-15, normalize=True, sample_weight=None, labels=None)\n",
    "print(\"Log_Loss for Y1:\",LL_log1)\n",
    "LR1=[Precision_log1,Recall_log1,F1_log1,fhalf_log1,AUC_log1,LL_log1]\n",
    "LR_performance_matrix1=pd.DataFrame({\"Y1\":LR1},index=[\"Precision_Score\",\"Recall_Score\",\"F1_Score\",\"F0.5_Score\",\"AUC\",\"Log_Loss\"])\n",
    "LR_performance_matrix1=pd.DataFrame(LR_performance_matrix1.stack(),columns=[\"LR\"])\n",
    "LR_performance_matrix1"
   ]
  },
  {
   "cell_type": "code",
   "execution_count": 46,
   "metadata": {},
   "outputs": [],
   "source": [
    "#Plot ROC(receiver operating characteristic curve)"
   ]
  },
  {
   "cell_type": "code",
   "execution_count": 79,
   "metadata": {},
   "outputs": [
    {
     "data": {
      "image/png": "[encoded data removed]",
      "text/plain": [
       "<Figure size 432x288 with 1 Axes>"
      ]
     },
     "metadata": {},
     "output_type": "display_data"
    }
   ],
   "source": [
    "fprs_log1, tprs_log1, thresholds_log1 = roc_curve(y1_test, lr_1_proba)\n",
    "plt.plot(fprs_log1, tprs_log1,color='orange',label='logistic regression')\n",
    "plt.xlim([-0.05, 1.05])\n",
    "plt.ylim([-0.05, 1.05])\n",
    "plt.plot([0,1],[0,1],'--',color='black',label='Random guess')\n",
    "plt.annotate(f\"AUC={round(AUC_log1,3)}\",(0.5,0.5),bbox=dict(boxstyle='round,pad=0.5', fc='yellow', ec='k', lw=1, alpha=0.9),weight='heavy')\n",
    "plt.fill_between(fprs_log1,tprs_log1,color='orange',alpha=0.5)\n",
    "plt.xlabel('False Positive Rate')\n",
    "plt.ylabel('True Positive Rate')\n",
    "plt.title('ROC')\n",
    "plt.legend(loc=\"lower right\")\n",
    "plt.savefig(\"ROC_LR_10\",dpi=300)"
   ]
  },
  {
   "cell_type": "markdown",
   "metadata": {},
   "source": [
    "### Model 2: Random Foreset（RF）"
   ]
  },
  {
   "cell_type": "code",
   "execution_count": 48,
   "metadata": {},
   "outputs": [
    {
     "data": {
      "text/plain": [
       "RandomForestClassifier(class_weight='balanced', max_depth=9,\n",
       "                       min_samples_leaf=26, n_estimators=43, random_state=100)"
      ]
     },
     "execution_count": 48,
     "metadata": {},
     "output_type": "execute_result"
    }
   ],
   "source": [
    "min_samples_leaf=list(np.arange(25,35,1))\n",
    "max_depth=list(np.arange(5,15,1))\n",
    "n_estimators=list(np.arange(35,45,1))\n",
    "param_grid = dict(min_samples_leaf = min_samples_leaf,max_depth = max_depth, n_estimators = n_estimators)\n",
    "rf=RandomForestClassifier(class_weight='balanced',random_state=100)\n",
    "kflod = StratifiedKFold(n_splits=10, shuffle = True,random_state=10)\n",
    "grid_search = GridSearchCV(rf,param_grid,scoring = 'roc_auc',cv = kflod)\n",
    "grid_search.fit(x1_train,y1_train)\n",
    "grid_search.best_estimator_"
   ]
  },
  {
   "cell_type": "code",
   "execution_count": 80,
   "metadata": {},
   "outputs": [
    {
     "name": "stdout",
     "output_type": "stream",
     "text": [
      "RF score for Y1: 0.8338226658837345\n"
     ]
    }
   ],
   "source": [
    "rf1=RandomForestClassifier(max_depth=9,min_samples_leaf=27,n_estimators=43,class_weight='balanced',random_state=100)\n",
    "rf1.fit(x1_train,y1_train)\n",
    "print(\"RF score for Y1:\",rf1.score(x1_test,y1_test))"
   ]
  },
  {
   "cell_type": "code",
   "execution_count": 81,
   "metadata": {},
   "outputs": [
    {
     "name": "stdout",
     "output_type": "stream",
     "text": [
      "The confusion matrix of Y1:\n"
     ]
    },
    {
     "data": {
      "text/plain": [
       "array([[821,  33],\n",
       "       [250, 599]], dtype=int64)"
      ]
     },
     "execution_count": 81,
     "metadata": {},
     "output_type": "execute_result"
    }
   ],
   "source": [
    "y1_predict = rf1.predict(x1_test)\n",
    "print(\"The confusion matrix of Y1:\")\n",
    "confusion_matrix(y1_test, y1_predict)"
   ]
  },
  {
   "cell_type": "code",
   "execution_count": 82,
   "metadata": {},
   "outputs": [
    {
     "name": "stdout",
     "output_type": "stream",
     "text": [
      "Confusion matrix, without normalization\n",
      "[[821  33]\n",
      " [250 599]]\n"
     ]
    },
    {
     "data": {
      "image/png": "[encoded data removed]",
      "text/plain": [
       "<Figure size 432x288 with 2 Axes>"
      ]
     },
     "metadata": {},
     "output_type": "display_data"
    }
   ],
   "source": [
    "confmat1 = confusion_matrix(y_true=y1_test, y_pred=rf1.predict(x1_test))\n",
    "labels = ['0','1']\n",
    "np.set_printoptions(precision=2)\n",
    "plt.figure()\n",
    "plot_confusion_matrix(confmat1, classes=labels, title='Confusion matrix')\n",
    "plt.savefig(\"CM_RF_10\",dpi=300)"
   ]
  },
  {
   "cell_type": "code",
   "execution_count": 83,
   "metadata": {},
   "outputs": [
    {
     "name": "stdout",
     "output_type": "stream",
     "text": [
      "Precision for Y1: 0.9477848101265823\n",
      "Recall for Y1: 0.7055359246171967\n",
      "F1_score for Y1: 0.8089128966914247\n",
      "F0.5 score for Y1: 0.8868818477939001\n",
      "Area_Under_Curve for Y1: 0.8919709921853235\n",
      "Log_Loss for Y1: 5.739577279198427\n"
     ]
    },
    {
     "data": {
      "text/html": [
       "<div>\n",
       "<style scoped>\n",
       "    .dataframe tbody tr th:only-of-type {\n",
       "        vertical-align: middle;\n",
       "    }\n",
       "\n",
       "    .dataframe tbody tr th {\n",
       "        vertical-align: top;\n",
       "    }\n",
       "\n",
       "    .dataframe thead th {\n",
       "        text-align: right;\n",
       "    }\n",
       "</style>\n",
       "<table border=\"1\" class=\"dataframe\">\n",
       "  <thead>\n",
       "    <tr style=\"text-align: right;\">\n",
       "      <th></th>\n",
       "      <th></th>\n",
       "      <th>RF</th>\n",
       "    </tr>\n",
       "  </thead>\n",
       "  <tbody>\n",
       "    <tr>\n",
       "      <th>Precision_Score</th>\n",
       "      <th>Y1</th>\n",
       "      <td>0.947785</td>\n",
       "    </tr>\n",
       "    <tr>\n",
       "      <th>Recall_Score</th>\n",
       "      <th>Y1</th>\n",
       "      <td>0.705536</td>\n",
       "    </tr>\n",
       "    <tr>\n",
       "      <th>F1_Score</th>\n",
       "      <th>Y1</th>\n",
       "      <td>0.808913</td>\n",
       "    </tr>\n",
       "    <tr>\n",
       "      <th>F0.5_Score</th>\n",
       "      <th>Y1</th>\n",
       "      <td>0.886882</td>\n",
       "    </tr>\n",
       "    <tr>\n",
       "      <th>AUC</th>\n",
       "      <th>Y1</th>\n",
       "      <td>0.891971</td>\n",
       "    </tr>\n",
       "    <tr>\n",
       "      <th>Log_Loss</th>\n",
       "      <th>Y1</th>\n",
       "      <td>5.739577</td>\n",
       "    </tr>\n",
       "  </tbody>\n",
       "</table>\n",
       "</div>"
      ],
      "text/plain": [
       "                          RF\n",
       "Precision_Score Y1  0.947785\n",
       "Recall_Score    Y1  0.705536\n",
       "F1_Score        Y1  0.808913\n",
       "F0.5_Score      Y1  0.886882\n",
       "AUC             Y1  0.891971\n",
       "Log_Loss        Y1  5.739577"
      ]
     },
     "execution_count": 83,
     "metadata": {},
     "output_type": "execute_result"
    }
   ],
   "source": [
    "Precision_rf1=precision_score(y1_test, y1_predict,average=\"binary\")\n",
    "print(\"Precision for Y1:\",Precision_rf1)\n",
    "Recall_rf1=recall_score(y1_test, y1_predict)\n",
    "print(\"Recall for Y1:\",Recall_rf1)\n",
    "F1_rf1=f1_score(y1_test, y1_predict)\n",
    "print(\"F1_score for Y1:\",F1_rf1)\n",
    "fhalf_rf1 = metrics.fbeta_score(y1_test, y1_predict, beta = 0.5)\n",
    "print('F0.5 score for Y1:', fhalf_rf1)\n",
    "rf1_proba = rf1.predict_proba(x1_test)\n",
    "rf_1_proba=rf1_proba[:,1]\n",
    "AUC_rf1=roc_auc_score(y1_test, rf_1_proba)\n",
    "print(\"Area_Under_Curve for Y1:\",AUC_rf1)\n",
    "LL_rf1=log_loss(y1_test,y1_predict,eps=1e-15, normalize=True, sample_weight=None, labels=None)\n",
    "print(\"Log_Loss for Y1:\",LL_rf1)\n",
    "RF1=[Precision_rf1,Recall_rf1,F1_rf1,fhalf_rf1,AUC_rf1,LL_rf1]\n",
    "RF_performance_matrix1=pd.DataFrame({\"Y1\":RF1},index=[\"Precision_Score\",\"Recall_Score\",\"F1_Score\",\"F0.5_Score\",\"AUC\",\"Log_Loss\"])\n",
    "RF_performance_matrix1=pd.DataFrame(RF_performance_matrix1.stack(),columns=[\"RF\"])\n",
    "RF_performance_matrix1"
   ]
  },
  {
   "cell_type": "code",
   "execution_count": 84,
   "metadata": {},
   "outputs": [
    {
     "data": {
      "image/png": "[encoded data removed]",
      "text/plain": [
       "<Figure size 432x288 with 1 Axes>"
      ]
     },
     "metadata": {},
     "output_type": "display_data"
    }
   ],
   "source": [
    "fprs_rf1, tprs_rf1, thresholds1 = roc_curve(y1_test, rf_1_proba)\n",
    "plt.plot(fprs_rf1,tprs_rf1,color='red',label='Random Forest')\n",
    "plt.plot([0,1],[0,1],'--',color='black',label='Random guess')\n",
    "plt.legend(fontsize=20)\n",
    "plt.ylim(0,1)\n",
    "plt.xlim(0,1)\n",
    "plt.xlabel('False Positive Rate')\n",
    "plt.ylabel('True Positive Rate')\n",
    "plt.title('ROC')\n",
    "plt.legend(loc=\"lower right\")\n",
    "plt.annotate(f\"AUC={round(AUC_rf1,3)}\",(0.5,0.5),bbox=dict(boxstyle='round,pad=1', fc='yellow', ec='k', lw=1, alpha=0.9),weight='heavy',size=10)\n",
    "plt.fill_between(fprs_rf1,tprs_rf1,color='red',alpha=0.5)\n",
    "plt.savefig('ROC_RF_10',dpi=300)"
   ]
  },
  {
   "cell_type": "markdown",
   "metadata": {},
   "source": [
    "### Model 3: Support Vector Machine（SVM）"
   ]
  },
  {
   "cell_type": "code",
   "execution_count": 54,
   "metadata": {},
   "outputs": [],
   "source": [
    "C=list(np.arange(0,100,1))\n",
    "gamma=list(np.arange(0.5,2,0.5))\n",
    "param_grid = dict(C=C,gamma=gamma)"
   ]
  },
  {
   "cell_type": "code",
   "execution_count": 55,
   "metadata": {},
   "outputs": [
    {
     "data": {
      "text/plain": [
       "GridSearchCV(cv=StratifiedKFold(n_splits=10, random_state=10, shuffle=True),\n",
       "             estimator=SVC(class_weight='balanced', probability=True,\n",
       "                           random_state=100),\n",
       "             param_grid={'C': [0, 1, 2, 3, 4, 5, 6, 7, 8, 9, 10, 11, 12, 13, 14,\n",
       "                               15, 16, 17, 18, 19, 20, 21, 22, 23, 24, 25, 26,\n",
       "                               27, 28, 29, ...],\n",
       "                         'gamma': [0.5, 1.0, 1.5]},\n",
       "             scoring='roc_auc')"
      ]
     },
     "execution_count": 55,
     "metadata": {},
     "output_type": "execute_result"
    }
   ],
   "source": [
    "svm=SVC(kernel='rbf',probability=True,class_weight='balanced',random_state=100)\n",
    "kflod = StratifiedKFold(n_splits=10, shuffle = True,random_state=10)\n",
    "grid_search = GridSearchCV(svm,param_grid,scoring = 'roc_auc',cv = kflod)\n",
    "grid_search.fit(x1_train,y1_train)"
   ]
  },
  {
   "cell_type": "code",
   "execution_count": 56,
   "metadata": {},
   "outputs": [
    {
     "data": {
      "text/plain": [
       "SVC(C=58, class_weight='balanced', gamma=1.0, probability=True,\n",
       "    random_state=100)"
      ]
     },
     "execution_count": 56,
     "metadata": {},
     "output_type": "execute_result"
    }
   ],
   "source": [
    "grid_search.best_estimator_"
   ]
  },
  {
   "cell_type": "code",
   "execution_count": 127,
   "metadata": {},
   "outputs": [
    {
     "name": "stdout",
     "output_type": "stream",
     "text": [
      "SVM score for Y1: 0.8402818555490311\n"
     ]
    }
   ],
   "source": [
    "svm1=SVC(kernel='rbf',C=58,class_weight='balanced',gamma=1,probability=True,random_state=100)\n",
    "svm1.fit(x1_train,y1_train)\n",
    "print(\"SVM score for Y1:\",svm1.score(x1_test,y1_test))"
   ]
  },
  {
   "cell_type": "code",
   "execution_count": 128,
   "metadata": {},
   "outputs": [
    {
     "name": "stdout",
     "output_type": "stream",
     "text": [
      "The confusion matrix of Y1:\n"
     ]
    },
    {
     "data": {
      "text/plain": [
       "array([[756,  98],\n",
       "       [174, 675]], dtype=int64)"
      ]
     },
     "execution_count": 128,
     "metadata": {},
     "output_type": "execute_result"
    }
   ],
   "source": [
    "y1_predict = svm1.predict(x1_test)\n",
    "print(\"The confusion matrix of Y1:\")\n",
    "confusion_matrix(y1_test, y1_predict)"
   ]
  },
  {
   "cell_type": "code",
   "execution_count": 129,
   "metadata": {},
   "outputs": [
    {
     "name": "stdout",
     "output_type": "stream",
     "text": [
      "Confusion matrix, without normalization\n",
      "[[756  98]\n",
      " [174 675]]\n"
     ]
    },
    {
     "data": {
      "image/png": "[encoded data removed]",
      "text/plain": [
       "<Figure size 432x288 with 2 Axes>"
      ]
     },
     "metadata": {},
     "output_type": "display_data"
    }
   ],
   "source": [
    "confmat1 = confusion_matrix(y_true=y1_test, y_pred=svm1.predict(x1_test))\n",
    "labels = ['0','1']\n",
    "np.set_printoptions(precision=2)\n",
    "plt.figure()\n",
    "plot_confusion_matrix(confmat1, classes=labels, title='Confusion matrix')\n",
    "plt.savefig(\"CM_SVM_10\",dpi=300)"
   ]
  },
  {
   "cell_type": "code",
   "execution_count": 130,
   "metadata": {},
   "outputs": [
    {
     "name": "stdout",
     "output_type": "stream",
     "text": [
      "Precision for Y1: 0.8732212160413971\n",
      "Recall for Y1: 0.7950530035335689\n",
      "F1_score for Y1: 0.8323057953144266\n",
      "F0.5 score for Y1: 0.8563816290281654\n",
      "Area_Under_Curve for Y1: 0.8946080662468312\n",
      "Log_Loss for Y1: 5.5165152906423165\n"
     ]
    },
    {
     "data": {
      "text/html": [
       "<div>\n",
       "<style scoped>\n",
       "    .dataframe tbody tr th:only-of-type {\n",
       "        vertical-align: middle;\n",
       "    }\n",
       "\n",
       "    .dataframe tbody tr th {\n",
       "        vertical-align: top;\n",
       "    }\n",
       "\n",
       "    .dataframe thead th {\n",
       "        text-align: right;\n",
       "    }\n",
       "</style>\n",
       "<table border=\"1\" class=\"dataframe\">\n",
       "  <thead>\n",
       "    <tr style=\"text-align: right;\">\n",
       "      <th></th>\n",
       "      <th></th>\n",
       "      <th>SVM</th>\n",
       "    </tr>\n",
       "  </thead>\n",
       "  <tbody>\n",
       "    <tr>\n",
       "      <th>Precision_Score</th>\n",
       "      <th>Y1</th>\n",
       "      <td>0.873221</td>\n",
       "    </tr>\n",
       "    <tr>\n",
       "      <th>Recall_Score</th>\n",
       "      <th>Y1</th>\n",
       "      <td>0.795053</td>\n",
       "    </tr>\n",
       "    <tr>\n",
       "      <th>F1_Score</th>\n",
       "      <th>Y1</th>\n",
       "      <td>0.832306</td>\n",
       "    </tr>\n",
       "    <tr>\n",
       "      <th>F0.5_Score</th>\n",
       "      <th>Y1</th>\n",
       "      <td>0.856382</td>\n",
       "    </tr>\n",
       "    <tr>\n",
       "      <th>AUC</th>\n",
       "      <th>Y1</th>\n",
       "      <td>0.894608</td>\n",
       "    </tr>\n",
       "    <tr>\n",
       "      <th>Log_Loss</th>\n",
       "      <th>Y1</th>\n",
       "      <td>5.516515</td>\n",
       "    </tr>\n",
       "  </tbody>\n",
       "</table>\n",
       "</div>"
      ],
      "text/plain": [
       "                         SVM\n",
       "Precision_Score Y1  0.873221\n",
       "Recall_Score    Y1  0.795053\n",
       "F1_Score        Y1  0.832306\n",
       "F0.5_Score      Y1  0.856382\n",
       "AUC             Y1  0.894608\n",
       "Log_Loss        Y1  5.516515"
      ]
     },
     "execution_count": 130,
     "metadata": {},
     "output_type": "execute_result"
    }
   ],
   "source": [
    "Precision_svm1=precision_score(y1_test, y1_predict,average=\"binary\")\n",
    "print(\"Precision for Y1:\",Precision_svm1)\n",
    "Recall_svm1=recall_score(y1_test, y1_predict)\n",
    "print(\"Recall for Y1:\",Recall_svm1)\n",
    "F1_svm1=f1_score(y1_test, y1_predict)\n",
    "print(\"F1_score for Y1:\",F1_svm1)\n",
    "fhalf_svm1 = metrics.fbeta_score(y1_test, y1_predict, beta = 0.5)\n",
    "print('F0.5 score for Y1:', fhalf_svm1)\n",
    "svm1_proba = svm1.predict_proba(x1_test)\n",
    "svm_1_proba=svm1_proba[:,1]\n",
    "AUC_svm1=roc_auc_score(y1_test, svm_1_proba)\n",
    "print(\"Area_Under_Curve for Y1:\",AUC_svm1)\n",
    "LL_svm1=log_loss(y1_test,y1_predict,eps=1e-15, normalize=True, sample_weight=None, labels=None)\n",
    "print(\"Log_Loss for Y1:\",LL_svm1)\n",
    "SVM1=[Precision_svm1,Recall_svm1,F1_svm1,fhalf_svm1,AUC_svm1,LL_svm1]\n",
    "SVM_performance_matrix1=pd.DataFrame({\"Y1\":SVM1},index=[\"Precision_Score\",\"Recall_Score\",\"F1_Score\",\"F0.5_Score\",\"AUC\",\"Log_Loss\"])\n",
    "SVM_performance_matrix1=pd.DataFrame(SVM_performance_matrix1.stack(),columns=[\"SVM\"])\n",
    "SVM_performance_matrix1"
   ]
  },
  {
   "cell_type": "code",
   "execution_count": 131,
   "metadata": {},
   "outputs": [
    {
     "data": {
      "image/png": "[encoded data removed]",
      "text/plain": [
       "<Figure size 432x288 with 1 Axes>"
      ]
     },
     "metadata": {},
     "output_type": "display_data"
    }
   ],
   "source": [
    "fprs_svm1, tprs_svm1, thresholds1 = roc_curve(y1_test, svm_1_proba)\n",
    "plt.plot(fprs_svm1, tprs_svm1,color='green',label='SVM')\n",
    "plt.plot([0,1],[0,1],'--',color='black',label='Random guess')\n",
    "plt.legend(fontsize=20)\n",
    "plt.ylim(0,1)\n",
    "plt.xlim(0,1)\n",
    "plt.xlabel('False Positive Rate')\n",
    "plt.ylabel('True Positive Rate')\n",
    "plt.title('ROC')\n",
    "plt.legend(loc=\"lower right\")\n",
    "plt.annotate(f\"AUC={round(AUC_svm1,3)}\",(0.5,0.5),bbox=dict(boxstyle='round,pad=1', fc='yellow', ec='k', lw=1, alpha=0.9),weight='heavy',size=10)\n",
    "plt.fill_between(fprs_svm1,tprs_svm1,color='green',alpha=0.5)\n",
    "plt.savefig('ROC_SVM_10',dpi=300)"
   ]
  },
  {
   "cell_type": "markdown",
   "metadata": {},
   "source": [
    "### Model 4：K-Nearest Neighbor（KNN）"
   ]
  },
  {
   "cell_type": "code",
   "execution_count": 62,
   "metadata": {},
   "outputs": [
    {
     "data": {
      "text/plain": [
       "GridSearchCV(cv=StratifiedKFold(n_splits=10, random_state=10, shuffle=True),\n",
       "             estimator=KNeighborsClassifier(),\n",
       "             param_grid={'n_neighbors': [0, 1, 2, 3, 4, 5, 6, 7, 8, 9, 10, 11,\n",
       "                                         12, 13, 14, 15, 16, 17, 18, 19, 20, 21,\n",
       "                                         22, 23, 24, 25, 26, 27, 28, 29, ...]},\n",
       "             scoring='roc_auc')"
      ]
     },
     "execution_count": 62,
     "metadata": {},
     "output_type": "execute_result"
    }
   ],
   "source": [
    "n_neighbors=list(np.arange(0,100,1))\n",
    "param_grid = dict(n_neighbors=n_neighbors)\n",
    "knn=KNeighborsClassifier()\n",
    "kflod = StratifiedKFold(n_splits=10, shuffle = True,random_state=10)\n",
    "grid_search = GridSearchCV(knn,param_grid,scoring = 'roc_auc',cv = kflod)\n",
    "grid_search.fit(x1_train,y1_train)"
   ]
  },
  {
   "cell_type": "code",
   "execution_count": 132,
   "metadata": {},
   "outputs": [
    {
     "data": {
      "text/plain": [
       "KNeighborsClassifier(n_neighbors=3)"
      ]
     },
     "execution_count": 132,
     "metadata": {},
     "output_type": "execute_result"
    }
   ],
   "source": [
    "grid_search.best_estimator_"
   ]
  },
  {
   "cell_type": "code",
   "execution_count": 133,
   "metadata": {},
   "outputs": [
    {
     "name": "stdout",
     "output_type": "stream",
     "text": [
      "KNN score for Y1: 0.7874339401056958\n"
     ]
    }
   ],
   "source": [
    "knn1=KNeighborsClassifier(n_neighbors=3)\n",
    "knn1.fit(x1_train,y1_train)\n",
    "print(\"KNN score for Y1:\",knn1.score(x1_test,y1_test))"
   ]
  },
  {
   "cell_type": "code",
   "execution_count": 134,
   "metadata": {},
   "outputs": [
    {
     "name": "stdout",
     "output_type": "stream",
     "text": [
      "The confusion matrix of Y1:\n"
     ]
    },
    {
     "data": {
      "text/plain": [
       "array([[697, 157],\n",
       "       [205, 644]], dtype=int64)"
      ]
     },
     "execution_count": 134,
     "metadata": {},
     "output_type": "execute_result"
    }
   ],
   "source": [
    "y1_predict = knn1.predict(x1_test)\n",
    "print(\"The confusion matrix of Y1:\")\n",
    "confusion_matrix(y1_test, y1_predict)"
   ]
  },
  {
   "cell_type": "code",
   "execution_count": 135,
   "metadata": {},
   "outputs": [
    {
     "name": "stdout",
     "output_type": "stream",
     "text": [
      "Confusion matrix, without normalization\n",
      "[[697 157]\n",
      " [205 644]]\n"
     ]
    },
    {
     "data": {
      "image/png": "[encoded data removed]",
      "text/plain": [
       "<Figure size 432x288 with 2 Axes>"
      ]
     },
     "metadata": {},
     "output_type": "display_data"
    }
   ],
   "source": [
    "confmat1 = confusion_matrix(y_true=y1_test, y_pred=knn1.predict(x1_test))\n",
    "labels = ['0','1']\n",
    "np.set_printoptions(precision=2)\n",
    "plt.figure()\n",
    "plot_confusion_matrix(confmat1, classes=labels, title='Confusion matrix')\n",
    "plt.savefig(\"CM_KNN_10\",dpi=300)"
   ]
  },
  {
   "cell_type": "code",
   "execution_count": 136,
   "metadata": {},
   "outputs": [
    {
     "name": "stdout",
     "output_type": "stream",
     "text": [
      "Precision for Y1: 0.8039950062421972\n",
      "Recall for Y1: 0.7585394581861012\n",
      "F1_score for Y1: 0.7806060606060605\n",
      "F0.5 score for Y1: 0.7944732297063904\n",
      "Area_Under_Curve for Y1: 0.8544844051273988\n",
      "Log_Loss for Y1: 7.341845326925548\n"
     ]
    },
    {
     "data": {
      "text/html": [
       "<div>\n",
       "<style scoped>\n",
       "    .dataframe tbody tr th:only-of-type {\n",
       "        vertical-align: middle;\n",
       "    }\n",
       "\n",
       "    .dataframe tbody tr th {\n",
       "        vertical-align: top;\n",
       "    }\n",
       "\n",
       "    .dataframe thead th {\n",
       "        text-align: right;\n",
       "    }\n",
       "</style>\n",
       "<table border=\"1\" class=\"dataframe\">\n",
       "  <thead>\n",
       "    <tr style=\"text-align: right;\">\n",
       "      <th></th>\n",
       "      <th></th>\n",
       "      <th>KNN</th>\n",
       "    </tr>\n",
       "  </thead>\n",
       "  <tbody>\n",
       "    <tr>\n",
       "      <th>Precision_Score</th>\n",
       "      <th>Y1</th>\n",
       "      <td>0.803995</td>\n",
       "    </tr>\n",
       "    <tr>\n",
       "      <th>Recall_Score</th>\n",
       "      <th>Y1</th>\n",
       "      <td>0.758539</td>\n",
       "    </tr>\n",
       "    <tr>\n",
       "      <th>F1_Score</th>\n",
       "      <th>Y1</th>\n",
       "      <td>0.780606</td>\n",
       "    </tr>\n",
       "    <tr>\n",
       "      <th>F0.5_Score</th>\n",
       "      <th>Y1</th>\n",
       "      <td>0.794473</td>\n",
       "    </tr>\n",
       "    <tr>\n",
       "      <th>AUC</th>\n",
       "      <th>Y1</th>\n",
       "      <td>0.854484</td>\n",
       "    </tr>\n",
       "    <tr>\n",
       "      <th>Log_Loss</th>\n",
       "      <th>Y1</th>\n",
       "      <td>7.341845</td>\n",
       "    </tr>\n",
       "  </tbody>\n",
       "</table>\n",
       "</div>"
      ],
      "text/plain": [
       "                         KNN\n",
       "Precision_Score Y1  0.803995\n",
       "Recall_Score    Y1  0.758539\n",
       "F1_Score        Y1  0.780606\n",
       "F0.5_Score      Y1  0.794473\n",
       "AUC             Y1  0.854484\n",
       "Log_Loss        Y1  7.341845"
      ]
     },
     "execution_count": 136,
     "metadata": {},
     "output_type": "execute_result"
    }
   ],
   "source": [
    "Precision_knn1=precision_score(y1_test, y1_predict,average=\"binary\")\n",
    "print(\"Precision for Y1:\",Precision_knn1)\n",
    "Recall_knn1=recall_score(y1_test, y1_predict)\n",
    "print(\"Recall for Y1:\",Recall_knn1)\n",
    "F1_knn1=f1_score(y1_test, y1_predict)\n",
    "print(\"F1_score for Y1:\",F1_knn1)\n",
    "fhalf_knn1 = metrics.fbeta_score(y1_test, y1_predict, beta = 0.5)\n",
    "print('F0.5 score for Y1:', fhalf_knn1)\n",
    "knn1_proba = knn1.predict_proba(x1_test)\n",
    "knn_1_proba=knn1_proba[:,1]\n",
    "AUC_knn1=roc_auc_score(y1_test, knn_1_proba)\n",
    "print(\"Area_Under_Curve for Y1:\",AUC_knn1)\n",
    "LL_knn1=log_loss(y1_test,y1_predict,eps=1e-15, normalize=True, sample_weight=None, labels=None)\n",
    "print(\"Log_Loss for Y1:\",LL_knn1)\n",
    "KNN1=[Precision_knn1,Recall_knn1,F1_knn1,fhalf_knn1,AUC_knn1,LL_knn1]\n",
    "KNN_performance_matrix1=pd.DataFrame({\"Y1\":KNN1},index=[\"Precision_Score\",\"Recall_Score\",\"F1_Score\",\"F0.5_Score\",\"AUC\",\"Log_Loss\"])\n",
    "KNN_performance_matrix1=pd.DataFrame(KNN_performance_matrix1.stack(),columns=[\"KNN\"])\n",
    "KNN_performance_matrix1"
   ]
  },
  {
   "cell_type": "code",
   "execution_count": 137,
   "metadata": {},
   "outputs": [
    {
     "data": {
      "image/png": "[encoded data removed]",
      "text/plain": [
       "<Figure size 432x288 with 1 Axes>"
      ]
     },
     "metadata": {},
     "output_type": "display_data"
    }
   ],
   "source": [
    "fprs_knn1, tprs_knn1, thresholds1 = roc_curve(y1_test, knn_1_proba)\n",
    "plt.plot(fprs_knn1, tprs_knn1,color='pink',label='KNN')\n",
    "plt.plot([0,1],[0,1],'--',color='black',label='Random guess')\n",
    "plt.legend(fontsize=20)\n",
    "plt.ylim(0,1)\n",
    "plt.xlim(0,1)\n",
    "plt.xlabel('False Positive Rate')\n",
    "plt.ylabel('True Positive Rate')\n",
    "plt.title('ROC')\n",
    "plt.legend(loc=\"lower right\")\n",
    "plt.annotate(f\"AUC={round(AUC_knn1,3)}\",(0.7,0.3),bbox=dict(boxstyle='round,pad=1', fc='yellow', ec='k', lw=1, alpha=0.9),weight='heavy',size=10)\n",
    "plt.fill_between(fprs_knn1,tprs_knn1,color='pink',alpha=0.5)\n",
    "plt.savefig('ROC_KNN_10',dpi=300)"
   ]
  },
  {
   "cell_type": "markdown",
   "metadata": {},
   "source": [
    "### Model 5：Multilayer Perceptron（MLP）"
   ]
  },
  {
   "cell_type": "code",
   "execution_count": 96,
   "metadata": {},
   "outputs": [
    {
     "data": {
      "text/plain": [
       "GridSearchCV(estimator=MLPClassifier(), n_jobs=6,\n",
       "             param_grid={'hidden_layer_sizes': [(100,), (100, 30)],\n",
       "                         'max_iter': [20], 'solver': ['adam', 'sgd', 'lbfgs'],\n",
       "                         'verbose': [True]})"
      ]
     },
     "execution_count": 96,
     "metadata": {},
     "output_type": "execute_result"
    }
   ],
   "source": [
    "mlp_clf__tuned_parameters = {\"hidden_layer_sizes\": [(100,), (100, 30)],\n",
    "                             \"solver\": ['adam', 'sgd', 'lbfgs'],\n",
    "                             \"max_iter\": [20],\n",
    "                             \"verbose\": [True]\n",
    "                             }\n",
    "mlp = MLPClassifier()\n",
    "estimator = GridSearchCV(mlp, mlp_clf__tuned_parameters, n_jobs=6)\n",
    "estimator.fit(x1_train, y1_train)"
   ]
  },
  {
   "cell_type": "code",
   "execution_count": 138,
   "metadata": {},
   "outputs": [
    {
     "data": {
      "text/plain": [
       "{'hidden_layer_sizes': (100,),\n",
       " 'max_iter': 20,\n",
       " 'solver': 'lbfgs',\n",
       " 'verbose': True}"
      ]
     },
     "execution_count": 138,
     "metadata": {},
     "output_type": "execute_result"
    }
   ],
   "source": [
    "estimator.best_params_"
   ]
  },
  {
   "cell_type": "code",
   "execution_count": 139,
   "metadata": {},
   "outputs": [
    {
     "name": "stdout",
     "output_type": "stream",
     "text": [
      "MLP score for Y1: 0.726952436876101\n"
     ]
    }
   ],
   "source": [
    "mlp1=MLPClassifier(hidden_layer_sizes=(100),max_iter=20,solver=\"lbfgs\",verbose=True,random_state=100)\n",
    "mlp1.fit(x1_train,y1_train)\n",
    "print(\"MLP score for Y1:\",mlp1.score(x1_test,y1_test))"
   ]
  },
  {
   "cell_type": "code",
   "execution_count": 140,
   "metadata": {},
   "outputs": [
    {
     "name": "stdout",
     "output_type": "stream",
     "text": [
      "The confusion matrix of Y1:\n"
     ]
    },
    {
     "data": {
      "text/plain": [
       "array([[659, 195],\n",
       "       [270, 579]], dtype=int64)"
      ]
     },
     "execution_count": 140,
     "metadata": {},
     "output_type": "execute_result"
    }
   ],
   "source": [
    "y1_predict = mlp1.predict(x1_test)\n",
    "print(\"The confusion matrix of Y1:\")\n",
    "confusion_matrix(y1_test, y1_predict)"
   ]
  },
  {
   "cell_type": "code",
   "execution_count": 141,
   "metadata": {},
   "outputs": [
    {
     "name": "stdout",
     "output_type": "stream",
     "text": [
      "Confusion matrix, without normalization\n",
      "[[659 195]\n",
      " [270 579]]\n"
     ]
    },
    {
     "data": {
      "image/png": "[encoded data removed]",
      "text/plain": [
       "<Figure size 432x288 with 2 Axes>"
      ]
     },
     "metadata": {},
     "output_type": "display_data"
    }
   ],
   "source": [
    "confmat1 = confusion_matrix(y_true=y1_test, y_pred=mlp1.predict(x1_test))\n",
    "labels = ['0','1']\n",
    "np.set_printoptions(precision=2)\n",
    "plt.figure()\n",
    "plot_confusion_matrix(confmat1, classes=labels, title='Confusion matrix')\n",
    "plt.savefig(\"CM_MLP_10\",dpi=300)"
   ]
  },
  {
   "cell_type": "code",
   "execution_count": 142,
   "metadata": {},
   "outputs": [
    {
     "name": "stdout",
     "output_type": "stream",
     "text": [
      "Precision for Y1: 0.748062015503876\n",
      "Recall for Y1: 0.6819787985865724\n",
      "F1_score for Y1: 0.7134935304990758\n",
      "F0.5 score for Y1: 0.7338403041825095\n",
      "Area_Under_Curve for Y1: 0.7942171944952457\n",
      "Log_Loss for Y1: 9.430820284869263\n"
     ]
    },
    {
     "data": {
      "text/html": [
       "<div>\n",
       "<style scoped>\n",
       "    .dataframe tbody tr th:only-of-type {\n",
       "        vertical-align: middle;\n",
       "    }\n",
       "\n",
       "    .dataframe tbody tr th {\n",
       "        vertical-align: top;\n",
       "    }\n",
       "\n",
       "    .dataframe thead th {\n",
       "        text-align: right;\n",
       "    }\n",
       "</style>\n",
       "<table border=\"1\" class=\"dataframe\">\n",
       "  <thead>\n",
       "    <tr style=\"text-align: right;\">\n",
       "      <th></th>\n",
       "      <th></th>\n",
       "      <th>MLP</th>\n",
       "    </tr>\n",
       "  </thead>\n",
       "  <tbody>\n",
       "    <tr>\n",
       "      <th>Precision_Score</th>\n",
       "      <th>Y1</th>\n",
       "      <td>0.748062</td>\n",
       "    </tr>\n",
       "    <tr>\n",
       "      <th>Recall_Score</th>\n",
       "      <th>Y1</th>\n",
       "      <td>0.681979</td>\n",
       "    </tr>\n",
       "    <tr>\n",
       "      <th>F1_Score</th>\n",
       "      <th>Y1</th>\n",
       "      <td>0.713494</td>\n",
       "    </tr>\n",
       "    <tr>\n",
       "      <th>F0.5_Score</th>\n",
       "      <th>Y1</th>\n",
       "      <td>0.733840</td>\n",
       "    </tr>\n",
       "    <tr>\n",
       "      <th>AUC</th>\n",
       "      <th>Y1</th>\n",
       "      <td>0.794217</td>\n",
       "    </tr>\n",
       "    <tr>\n",
       "      <th>Log_Loss</th>\n",
       "      <th>Y1</th>\n",
       "      <td>9.430820</td>\n",
       "    </tr>\n",
       "  </tbody>\n",
       "</table>\n",
       "</div>"
      ],
      "text/plain": [
       "                         MLP\n",
       "Precision_Score Y1  0.748062\n",
       "Recall_Score    Y1  0.681979\n",
       "F1_Score        Y1  0.713494\n",
       "F0.5_Score      Y1  0.733840\n",
       "AUC             Y1  0.794217\n",
       "Log_Loss        Y1  9.430820"
      ]
     },
     "execution_count": 142,
     "metadata": {},
     "output_type": "execute_result"
    }
   ],
   "source": [
    "Precision_mlp1=precision_score(y1_test, y1_predict,average=\"binary\")\n",
    "print(\"Precision for Y1:\",Precision_mlp1)\n",
    "Recall_mlp1=recall_score(y1_test, y1_predict)\n",
    "print(\"Recall for Y1:\",Recall_mlp1)\n",
    "F1_mlp1=f1_score(y1_test, y1_predict)\n",
    "print(\"F1_score for Y1:\",F1_mlp1)\n",
    "fhalf_mlp1 = metrics.fbeta_score(y1_test, y1_predict, beta = 0.5)\n",
    "print('F0.5 score for Y1:', fhalf_mlp1)\n",
    "mlp1_proba = mlp1.predict_proba(x1_test)\n",
    "mlp_1_proba=mlp1_proba[:,1]\n",
    "AUC_mlp1=roc_auc_score(y1_test, mlp_1_proba)\n",
    "print(\"Area_Under_Curve for Y1:\",AUC_mlp1)\n",
    "LL_mlp1=log_loss(y1_test,y1_predict,eps=1e-15, normalize=True, sample_weight=None, labels=None)\n",
    "print(\"Log_Loss for Y1:\",LL_mlp1)\n",
    "MLP1=[Precision_mlp1,Recall_mlp1,F1_mlp1,fhalf_mlp1,AUC_mlp1,LL_mlp1]\n",
    "MLP_performance_matrix1=pd.DataFrame({\"Y1\":MLP1},index=[\"Precision_Score\",\"Recall_Score\",\"F1_Score\",\"F0.5_Score\",\"AUC\",\"Log_Loss\"])\n",
    "MLP_performance_matrix1=pd.DataFrame(MLP_performance_matrix1.stack(),columns=[\"MLP\"])\n",
    "MLP_performance_matrix1"
   ]
  },
  {
   "cell_type": "code",
   "execution_count": 143,
   "metadata": {},
   "outputs": [
    {
     "data": {
      "image/png": "[encoded data removed]",
      "text/plain": [
       "<Figure size 432x288 with 1 Axes>"
      ]
     },
     "metadata": {},
     "output_type": "display_data"
    }
   ],
   "source": [
    "fprs_mlp1, tprs_mlp1, thresholds1 = roc_curve(y1_test, mlp_1_proba)\n",
    "plt.plot(fprs_mlp1, tprs_mlp1,color='blue',label='MLP')\n",
    "plt.plot([0,1],[0,1],'--',color='black',label='Random guess')\n",
    "plt.legend(fontsize=20)\n",
    "plt.ylim(0,1)\n",
    "plt.xlim(0,1)\n",
    "plt.xlabel('False Positive Rate')\n",
    "plt.ylabel('True Positive Rate')\n",
    "plt.title('ROC')\n",
    "plt.legend(loc=\"lower right\")\n",
    "plt.annotate(f\"AUC={round(AUC_mlp1,3)}\",(0.7,0.3),bbox=dict(boxstyle='round,pad=1', fc='yellow', ec='k', lw=1, alpha=0.9),weight='heavy',size=10)\n",
    "plt.fill_between(fprs_mlp1,tprs_mlp1,color='blue',alpha=0.5)\n",
    "plt.savefig('ROC_MLP_10',dpi=300)"
   ]
  },
  {
   "cell_type": "markdown",
   "metadata": {},
   "source": [
    "### Model 6：Gaussian Naive Bayes（Gaussian NB）"
   ]
  },
  {
   "cell_type": "code",
   "execution_count": 144,
   "metadata": {},
   "outputs": [
    {
     "name": "stdout",
     "output_type": "stream",
     "text": [
      "Gaussian NB score for Y1: 0.5366999412800939\n"
     ]
    }
   ],
   "source": [
    "nb1=GaussianNB(priors=None,var_smoothing=1e-09)\n",
    "nb1.fit(x1_train,y1_train)\n",
    "print(\"Gaussian NB score for Y1:\",nb1.score(x1_test,y1_test))"
   ]
  },
  {
   "cell_type": "code",
   "execution_count": 145,
   "metadata": {},
   "outputs": [
    {
     "name": "stdout",
     "output_type": "stream",
     "text": [
      "The confusion matrix of Y1:\n"
     ]
    },
    {
     "data": {
      "text/plain": [
       "array([[134, 720],\n",
       "       [ 69, 780]], dtype=int64)"
      ]
     },
     "execution_count": 145,
     "metadata": {},
     "output_type": "execute_result"
    }
   ],
   "source": [
    "y1_predict = nb1.predict(x1_test)\n",
    "print(\"The confusion matrix of Y1:\")\n",
    "confusion_matrix(y1_test, y1_predict)"
   ]
  },
  {
   "cell_type": "code",
   "execution_count": 146,
   "metadata": {},
   "outputs": [
    {
     "name": "stdout",
     "output_type": "stream",
     "text": [
      "Confusion matrix, without normalization\n",
      "[[134 720]\n",
      " [ 69 780]]\n"
     ]
    },
    {
     "data": {
      "image/png": "[encoded data removed]",
      "text/plain": [
       "<Figure size 432x288 with 2 Axes>"
      ]
     },
     "metadata": {},
     "output_type": "display_data"
    }
   ],
   "source": [
    "confmat1 = confusion_matrix(y_true=y1_test, y_pred=nb1.predict(x1_test))\n",
    "labels = ['0','1']\n",
    "np.set_printoptions(precision=2)\n",
    "plt.figure()\n",
    "plot_confusion_matrix(confmat1, classes=labels, title='Confusion matrix')\n",
    "plt.savefig(\"CM_NB_10\",dpi=300)"
   ]
  },
  {
   "cell_type": "code",
   "execution_count": 147,
   "metadata": {},
   "outputs": [
    {
     "name": "stdout",
     "output_type": "stream",
     "text": [
      "Precision for Y1: 0.52\n",
      "Recall for Y1: 0.9187279151943463\n",
      "F1_score for Y1: 0.6641123882503194\n",
      "F0.5 score for Y1: 0.5694261936049059\n",
      "Area_Under_Curve for Y1: 0.6483519666338411\n",
      "Log_Loss for Y1: 16.00215518833486\n"
     ]
    },
    {
     "data": {
      "text/html": [
       "<div>\n",
       "<style scoped>\n",
       "    .dataframe tbody tr th:only-of-type {\n",
       "        vertical-align: middle;\n",
       "    }\n",
       "\n",
       "    .dataframe tbody tr th {\n",
       "        vertical-align: top;\n",
       "    }\n",
       "\n",
       "    .dataframe thead th {\n",
       "        text-align: right;\n",
       "    }\n",
       "</style>\n",
       "<table border=\"1\" class=\"dataframe\">\n",
       "  <thead>\n",
       "    <tr style=\"text-align: right;\">\n",
       "      <th></th>\n",
       "      <th></th>\n",
       "      <th>NB</th>\n",
       "    </tr>\n",
       "  </thead>\n",
       "  <tbody>\n",
       "    <tr>\n",
       "      <th>Precision_Score</th>\n",
       "      <th>Y1</th>\n",
       "      <td>0.520000</td>\n",
       "    </tr>\n",
       "    <tr>\n",
       "      <th>Recall_Score</th>\n",
       "      <th>Y1</th>\n",
       "      <td>0.918728</td>\n",
       "    </tr>\n",
       "    <tr>\n",
       "      <th>F1_Score</th>\n",
       "      <th>Y1</th>\n",
       "      <td>0.664112</td>\n",
       "    </tr>\n",
       "    <tr>\n",
       "      <th>F0.5_Score</th>\n",
       "      <th>Y1</th>\n",
       "      <td>0.569426</td>\n",
       "    </tr>\n",
       "    <tr>\n",
       "      <th>AUC</th>\n",
       "      <th>Y1</th>\n",
       "      <td>0.648352</td>\n",
       "    </tr>\n",
       "    <tr>\n",
       "      <th>Log_Loss</th>\n",
       "      <th>Y1</th>\n",
       "      <td>16.002155</td>\n",
       "    </tr>\n",
       "  </tbody>\n",
       "</table>\n",
       "</div>"
      ],
      "text/plain": [
       "                           NB\n",
       "Precision_Score Y1   0.520000\n",
       "Recall_Score    Y1   0.918728\n",
       "F1_Score        Y1   0.664112\n",
       "F0.5_Score      Y1   0.569426\n",
       "AUC             Y1   0.648352\n",
       "Log_Loss        Y1  16.002155"
      ]
     },
     "execution_count": 147,
     "metadata": {},
     "output_type": "execute_result"
    }
   ],
   "source": [
    "Precision_nb1=precision_score(y1_test, y1_predict,average=\"binary\")\n",
    "print(\"Precision for Y1:\",Precision_nb1)\n",
    "Recall_nb1=recall_score(y1_test, y1_predict)\n",
    "print(\"Recall for Y1:\",Recall_nb1)\n",
    "F1_nb1=f1_score(y1_test, y1_predict)\n",
    "print(\"F1_score for Y1:\",F1_nb1)\n",
    "fhalf_nb1 = metrics.fbeta_score(y1_test, y1_predict, beta = 0.5)\n",
    "print('F0.5 score for Y1:', fhalf_nb1)\n",
    "nb1_proba = nb1.predict_proba(x1_test)\n",
    "nb_1_proba=nb1_proba[:,1]\n",
    "AUC_nb1=roc_auc_score(y1_test, nb_1_proba)\n",
    "print(\"Area_Under_Curve for Y1:\",AUC_nb1)\n",
    "LL_nb1=log_loss(y1_test,y1_predict,eps=1e-15, normalize=True, sample_weight=None, labels=None)\n",
    "print(\"Log_Loss for Y1:\",LL_nb1)\n",
    "NB1=[Precision_nb1,Recall_nb1,F1_nb1,fhalf_nb1,AUC_nb1,LL_nb1]\n",
    "NB_performance_matrix1=pd.DataFrame({\"Y1\":NB1},index=[\"Precision_Score\",\"Recall_Score\",\"F1_Score\",\"F0.5_Score\",\"AUC\",\"Log_Loss\"])\n",
    "NB_performance_matrix1=pd.DataFrame(NB_performance_matrix1.stack(),columns=[\"NB\"])\n",
    "NB_performance_matrix1"
   ]
  },
  {
   "cell_type": "code",
   "execution_count": 148,
   "metadata": {},
   "outputs": [
    {
     "data": {
      "image/png": "[encoded data removed]",
      "text/plain": [
       "<Figure size 432x288 with 1 Axes>"
      ]
     },
     "metadata": {},
     "output_type": "display_data"
    }
   ],
   "source": [
    "fprs_nb1, tprs_nb1, thresholds1 = roc_curve(y1_test, nb_1_proba)\n",
    "plt.plot(fprs_nb1, tprs_nb1,color='purple',label='NB')\n",
    "plt.plot([0,1],[0,1],'--',color='black',label='Random guess')\n",
    "plt.legend(fontsize=20)\n",
    "plt.ylim(0,1)\n",
    "plt.xlim(0,1)\n",
    "plt.xlabel('False Positive Rate')\n",
    "plt.ylabel('True Positive Rate')\n",
    "plt.title('ROC')\n",
    "plt.legend(loc=\"lower right\")\n",
    "plt.annotate(f\"AUC={round(AUC_nb1,3)}\",(0.7,0.3),bbox=dict(boxstyle='round,pad=1', fc='yellow', ec='k', lw=1, alpha=0.9),weight='heavy',size=10)\n",
    "plt.fill_between(fprs_nb1,tprs_nb1,color='purple',alpha=0.5)\n",
    "plt.savefig('ROC_NB_10',dpi=300)"
   ]
  },
  {
   "cell_type": "markdown",
   "metadata": {},
   "source": [
    "### Part 3.Model Comparision"
   ]
  },
  {
   "cell_type": "code",
   "execution_count": 149,
   "metadata": {},
   "outputs": [
    {
     "data": {
      "image/png": "[encoded data removed]",
      "text/plain": [
       "<Figure size 1152x720 with 6 Axes>"
      ]
     },
     "metadata": {},
     "output_type": "display_data"
    }
   ],
   "source": [
    "fig , axes=plt.subplots(2,3,figsize=(16,10))\n",
    "\n",
    "axes[0,0].plot(fprs_log1,tprs_log1,color='orange',label='Logistic Regression')\n",
    "axes[0,0].plot([0,1],[0,1],'--',color='black',label='Random guess')\n",
    "axes[0,0].legend(loc=\"lower right\")\n",
    "axes[0,0].set_ylim(0,1)\n",
    "axes[0,0].set_xlim(0,1)\n",
    "axes[0,0].annotate(f\"AUC={round(AUC_log1,3)}\",(0.5,0.5),bbox=dict(boxstyle='round,pad=0.5', fc='yellow', ec='k', lw=1, alpha=0.9),weight='heavy')\n",
    "axes[0,0].fill_between(fprs_log1,tprs_log1,color='orange',alpha=0.5)\n",
    "\n",
    "axes[0,1].plot(fprs_rf1,tprs_rf1,color='red',label='Random forest')\n",
    "axes[0,1].plot([0,1],[0,1],'--',color='black',label='Random guess')\n",
    "axes[0,1].legend(loc=\"lower right\")\n",
    "axes[0,1].set_ylim(0,1)\n",
    "axes[0,1].set_xlim(0,1)\n",
    "axes[0,1].annotate(f\"AUC={round(AUC_rf1,3)}\",(0.5,0.5),bbox=dict(boxstyle='round,pad=0.5', fc='yellow', ec='k', lw=1, alpha=0.9),weight='heavy')\n",
    "axes[0,1].fill_between(fprs_rf1,tprs_rf1,color='red',alpha=0.5)\n",
    "\n",
    "axes[0,2].plot(fprs_svm1, tprs_svm1,color='green',label='SVM')\n",
    "axes[0,2].plot([0,1],[0,1],'--',color='black',label='Random guess')\n",
    "axes[0,2].legend(loc=\"lower right\")\n",
    "axes[0,2].set_ylim(0,1)\n",
    "axes[0,2].set_xlim(0,1)\n",
    "axes[0,2].annotate(f\"AUC={round(AUC_svm1,3)}\",(0.5,0.5),bbox=dict(boxstyle='round,pad=0.5', fc='yellow', ec='k', lw=1, alpha=0.9),weight='heavy')\n",
    "axes[0,2].fill_between(fprs_svm1,tprs_svm1,color='green',alpha=0.5)\n",
    "\n",
    "axes[1,0].plot(fprs_mlp1,tprs_mlp1,label='MLP',color='blue')\n",
    "axes[1,0].plot([0,1],[0,1],'--',color='black',label='Random guess')\n",
    "axes[1,0].legend(loc=\"lower right\")\n",
    "axes[1,0].set_ylim(0,1)\n",
    "axes[1,0].set_xlim(0,1)\n",
    "axes[1,0].annotate(f\"AUC={round(AUC_mlp1,3)}\",(0.5,0.5),bbox=dict(boxstyle='round,pad=0.5', fc='yellow', ec='k', lw=1, alpha=0.9),weight='heavy')\n",
    "axes[1,0].fill_between(fprs_mlp1,tprs_mlp1,color='blue',alpha=0.5)\n",
    "\n",
    "axes[1,1].plot(fprs_knn1,tprs_knn1,label='KNN',color='pink')\n",
    "axes[1,1].plot([0,1],[0,1],'--',color='black',label='Random guess')\n",
    "axes[1,1].legend(loc=\"lower right\")\n",
    "axes[1,1].set_ylim(0,1)\n",
    "axes[1,1].set_xlim(0,1)\n",
    "axes[1,1].annotate(f\"AUC={round(AUC_knn1,3)}\",(0.7,0.3),bbox=dict(boxstyle='round,pad=0.5', fc='yellow', ec='k', lw=1, alpha=0.9),weight='heavy')\n",
    "axes[1,1].fill_between(fprs_knn1,tprs_knn1,color='pink',alpha=0.5)\n",
    "\n",
    "axes[1,2].plot(fprs_nb1,tprs_nb1,label='NB',color='purple')\n",
    "axes[1,2].plot([0,1],[0,1],'--',color='black',label='Random guess')\n",
    "axes[1,2].legend(loc=\"lower right\")\n",
    "axes[1,2].set_ylim(0,1)\n",
    "axes[1,2].set_xlim(0,1)\n",
    "axes[1,2].annotate(f\"AUC={round(AUC_nb1,3)}\",(0.5,0.5),bbox=dict(boxstyle='round,pad=0.5', fc='yellow', ec='k', lw=1, alpha=0.9),weight='heavy')\n",
    "axes[1,2].fill_between(fprs_nb1,tprs_nb1,color='purple',alpha=0.5)\n",
    "fig.savefig('Model_Comparison_10',dpi=300)"
   ]
  },
  {
   "cell_type": "code",
   "execution_count": 150,
   "metadata": {
    "scrolled": true
   },
   "outputs": [
    {
     "data": {
      "text/html": [
       "<div>\n",
       "<style scoped>\n",
       "    .dataframe tbody tr th:only-of-type {\n",
       "        vertical-align: middle;\n",
       "    }\n",
       "\n",
       "    .dataframe tbody tr th {\n",
       "        vertical-align: top;\n",
       "    }\n",
       "\n",
       "    .dataframe thead th {\n",
       "        text-align: right;\n",
       "    }\n",
       "</style>\n",
       "<table border=\"1\" class=\"dataframe\">\n",
       "  <thead>\n",
       "    <tr style=\"text-align: right;\">\n",
       "      <th></th>\n",
       "      <th></th>\n",
       "      <th>LR</th>\n",
       "      <th>RF</th>\n",
       "      <th>SVM</th>\n",
       "      <th>MLP</th>\n",
       "      <th>KNN</th>\n",
       "      <th>NB</th>\n",
       "    </tr>\n",
       "  </thead>\n",
       "  <tbody>\n",
       "    <tr>\n",
       "      <th>Precision_Score</th>\n",
       "      <th>Y1</th>\n",
       "      <td>0.570414</td>\n",
       "      <td>0.947785</td>\n",
       "      <td>0.873221</td>\n",
       "      <td>0.748062</td>\n",
       "      <td>0.803995</td>\n",
       "      <td>0.520000</td>\n",
       "    </tr>\n",
       "    <tr>\n",
       "      <th>Recall_Score</th>\n",
       "      <th>Y1</th>\n",
       "      <td>0.567727</td>\n",
       "      <td>0.705536</td>\n",
       "      <td>0.795053</td>\n",
       "      <td>0.681979</td>\n",
       "      <td>0.758539</td>\n",
       "      <td>0.918728</td>\n",
       "    </tr>\n",
       "    <tr>\n",
       "      <th>F1_Score</th>\n",
       "      <th>Y1</th>\n",
       "      <td>0.569067</td>\n",
       "      <td>0.808913</td>\n",
       "      <td>0.832306</td>\n",
       "      <td>0.713494</td>\n",
       "      <td>0.780606</td>\n",
       "      <td>0.664112</td>\n",
       "    </tr>\n",
       "    <tr>\n",
       "      <th>F0.5_Score</th>\n",
       "      <th>Y1</th>\n",
       "      <td>0.569875</td>\n",
       "      <td>0.886882</td>\n",
       "      <td>0.856382</td>\n",
       "      <td>0.733840</td>\n",
       "      <td>0.794473</td>\n",
       "      <td>0.569426</td>\n",
       "    </tr>\n",
       "    <tr>\n",
       "      <th>AUC</th>\n",
       "      <th>Y1</th>\n",
       "      <td>0.595944</td>\n",
       "      <td>0.891971</td>\n",
       "      <td>0.894608</td>\n",
       "      <td>0.794217</td>\n",
       "      <td>0.854484</td>\n",
       "      <td>0.648352</td>\n",
       "    </tr>\n",
       "    <tr>\n",
       "      <th>Log_Loss</th>\n",
       "      <th>Y1</th>\n",
       "      <td>14.805400</td>\n",
       "      <td>5.739577</td>\n",
       "      <td>5.516515</td>\n",
       "      <td>9.430820</td>\n",
       "      <td>7.341845</td>\n",
       "      <td>16.002155</td>\n",
       "    </tr>\n",
       "  </tbody>\n",
       "</table>\n",
       "</div>"
      ],
      "text/plain": [
       "                           LR        RF       SVM       MLP       KNN  \\\n",
       "Precision_Score Y1   0.570414  0.947785  0.873221  0.748062  0.803995   \n",
       "Recall_Score    Y1   0.567727  0.705536  0.795053  0.681979  0.758539   \n",
       "F1_Score        Y1   0.569067  0.808913  0.832306  0.713494  0.780606   \n",
       "F0.5_Score      Y1   0.569875  0.886882  0.856382  0.733840  0.794473   \n",
       "AUC             Y1   0.595944  0.891971  0.894608  0.794217  0.854484   \n",
       "Log_Loss        Y1  14.805400  5.739577  5.516515  9.430820  7.341845   \n",
       "\n",
       "                           NB  \n",
       "Precision_Score Y1   0.520000  \n",
       "Recall_Score    Y1   0.918728  \n",
       "F1_Score        Y1   0.664112  \n",
       "F0.5_Score      Y1   0.569426  \n",
       "AUC             Y1   0.648352  \n",
       "Log_Loss        Y1  16.002155  "
      ]
     },
     "execution_count": 150,
     "metadata": {},
     "output_type": "execute_result"
    }
   ],
   "source": [
    "Performance_Matrix=pd.concat([LR_performance_matrix1,RF_performance_matrix1,SVM_performance_matrix1,MLP_performance_matrix1,KNN_performance_matrix1,NB_performance_matrix1],axis=1)\n",
    "Performance_Matrix"
   ]
  },
  {
   "cell_type": "code",
   "execution_count": null,
   "metadata": {},
   "outputs": [],
   "source": []
  }
 ],
 "metadata": {
  "kernelspec": {
   "display_name": "Python 3",
   "language": "python",
   "name": "python3"
  },
  "language_info": {
   "codemirror_mode": {
    "name": "ipython",
    "version": 3
   },
   "file_extension": ".py",
   "mimetype": "text/x-python",
   "name": "python",
   "nbconvert_exporter": "python",
   "pygments_lexer": "ipython3",
   "version": "3.8.5"
  }
 },
 "nbformat": 4,
 "nbformat_minor": 4
}
